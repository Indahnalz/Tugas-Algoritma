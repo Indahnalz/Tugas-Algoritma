{
  "nbformat": 4,
  "nbformat_minor": 0,
  "metadata": {
    "colab": {
      "provenance": []
    },
    "kernelspec": {
      "name": "python3",
      "display_name": "Python 3"
    },
    "language_info": {
      "name": "python"
    }
  },
  "cells": [
    {
      "cell_type": "code",
      "execution_count": 2,
      "metadata": {
        "colab": {
          "base_uri": "https://localhost:8080/"
        },
        "id": "2ei9xUEgPC_I",
        "outputId": "5a2f277a-873e-45f9-b314-569c016188d4"
      },
      "outputs": [
        {
          "name": "stdout",
          "output_type": "stream",
          "text": [
            "Hi! Aliza's Here!\n",
            "Hi, What is ur name? Halo Aliza my name is indah\n",
            "Nice to meet u, indah! Anw, how old are u? i'm  20\n"
          ]
        }
      ],
      "source": [
        "# Menampilkan pesan selamat datang \n",
        "print(\"Hi! Aliza's Here!\")\n",
        "\n",
        "# Membaca input \n",
        "nama = input(\"Hi, What is ur name? Halo Aliza my name is \")\n",
        "umur = int(input(f\"Nice to meet u, {nama}! Anw, how old are u? i'm  \"))"
      ]
    },
    {
      "cell_type": "code",
      "source": [
        "# Menampilkan hasil pengolahan data dari input \n",
        "tahun_lahir = 2023 - umur\n",
        "tinggi_badan = float(input(\"What is ur height in cm? \"))\n",
        "print(f\"So u born in {tahun_lahir}, and ur height is {tinggi_badan} cm.\")"
      ],
      "metadata": {
        "colab": {
          "base_uri": "https://localhost:8080/"
        },
        "id": "yDRNVAG1Qw2C",
        "outputId": "0360a542-cefc-408c-94be-6d7fa5638256"
      },
      "execution_count": 3,
      "outputs": [
        {
          "output_type": "stream",
          "name": "stdout",
          "text": [
            "What is ur height in cm? 164\n",
            "So u born in 2003, and ur height is 164.0 cm.\n"
          ]
        }
      ]
    },
    {
      "cell_type": "code",
      "source": [
        "# Menghitung dan menampilkan nilai BMI (Body Mass Index) dengan formatted string\n",
        "berat_badan = float(input(\"Now, what is ur body weight? \"))\n",
        "tinggi_meter = tinggi_badan / 100\n",
        "bmi = round(berat_badan / (tinggi_meter ** 2), 2)\n",
        "print(f\"from ur data, ur BMI is {bmi}.\")\n",
        "print(\"FYI, normal BMI is between 18,5 - 24,9.\")"
      ],
      "metadata": {
        "colab": {
          "base_uri": "https://localhost:8080/"
        },
        "id": "Wh_wwF15Q8Mr",
        "outputId": "465d807e-55d4-4904-933c-808e784abc64"
      },
      "execution_count": 5,
      "outputs": [
        {
          "output_type": "stream",
          "name": "stdout",
          "text": [
            "Now, what is ur body weight? 50\n",
            "from ur data, ur BMI is 18.59.\n",
            "FYI, normal BMI is between 18,5 - 24,9.\n"
          ]
        }
      ]
    },
    {
      "cell_type": "code",
      "source": [
        "# Menampilkan pesan sebelum keluar\n",
        "print(\"Thank u for coming!\")\n",
        "print(f\"Have a nice day, {nama}!\")"
      ],
      "metadata": {
        "colab": {
          "base_uri": "https://localhost:8080/"
        },
        "id": "0Jt0lmUIQ0bF",
        "outputId": "38cfce01-fc5c-491d-f0d5-381401653934"
      },
      "execution_count": 6,
      "outputs": [
        {
          "output_type": "stream",
          "name": "stdout",
          "text": [
            "Thank u for coming!\n",
            "Have a nice day, indah!\n"
          ]
        }
      ]
    }
  ]
}