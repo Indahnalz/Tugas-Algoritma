{
  "nbformat": 4,
  "nbformat_minor": 0,
  "metadata": {
    "colab": {
      "provenance": [],
      "authorship_tag": "ABX9TyMx8oJNNj1+1uAUoh3Yynli",
      "include_colab_link": true
    },
    "kernelspec": {
      "name": "python3",
      "display_name": "Python 3"
    },
    "language_info": {
      "name": "python"
    }
  },
  "cells": [
    {
      "cell_type": "markdown",
      "metadata": {
        "id": "view-in-github",
        "colab_type": "text"
      },
      "source": [
        "<a href=\"https://colab.research.google.com/github/Indahnalz/Tugas-Algoritma/blob/main/2208541035_IndahNurAliza_TugasV.ipynb\" target=\"_parent\"><img src=\"https://colab.research.google.com/assets/colab-badge.svg\" alt=\"Open In Colab\"/></a>"
      ]
    },
    {
      "cell_type": "markdown",
      "source": [
        "# 5.16 List 2 Dimensi\n",
        "##pertemuan tanggal 03 April 2023\n",
        "\n",
        "Pendahuluan\n",
        "adalah menempatkan sebuah list di dalam list.\n",
        "Penggambarannya seperti sebuah matrik."
      ],
      "metadata": {
        "id": "oeJgyDfEbWgN"
      }
    },
    {
      "cell_type": "code",
      "source": [
        "# buat lah matrik sederhana\n",
        "matrik = [\n",
        "    [2,3,5,7],\n",
        "    [4,6,8,10],\n",
        "    [11,12,13,14],\n",
        "    [15,17,19,21],\n",
        "]\n",
        "\n",
        "print(matrik)"
      ],
      "metadata": {
        "colab": {
          "base_uri": "https://localhost:8080/"
        },
        "id": "qq0CakOebs1D",
        "outputId": "d09e3554-4d49-4e28-fb7d-77655ffad1ae"
      },
      "execution_count": null,
      "outputs": [
        {
          "output_type": "stream",
          "name": "stdout",
          "text": [
            "[[2, 3, 5, 7], [4, 6, 8, 10], [11, 12, 13, 14], [15, 17, 19, 21]]\n"
          ]
        }
      ]
    },
    {
      "cell_type": "code",
      "source": [
        "# panggil variabel matrik di baris pertama dengan perintah berikut\n",
        "matrik[1]"
      ],
      "metadata": {
        "colab": {
          "base_uri": "https://localhost:8080/"
        },
        "id": "UgnBIo7ddfnY",
        "outputId": "27ffb4ca-7f43-42c8-aca3-3c3fb9799890"
      },
      "execution_count": null,
      "outputs": [
        {
          "output_type": "execute_result",
          "data": {
            "text/plain": [
              "[4, 6, 8, 10]"
            ]
          },
          "metadata": {},
          "execution_count": 2
        }
      ]
    },
    {
      "cell_type": "code",
      "source": [
        "# selanjutnya kita akan mencoba variabel matrik dibaris pertama dan kedua\n",
        "matrik[1][2]"
      ],
      "metadata": {
        "colab": {
          "base_uri": "https://localhost:8080/"
        },
        "id": "cQ8qjLAsc9ph",
        "outputId": "f3d3e458-f70f-4e8e-a3e7-ee5e3e75656b"
      },
      "execution_count": null,
      "outputs": [
        {
          "output_type": "execute_result",
          "data": {
            "text/plain": [
              "13"
            ]
          },
          "metadata": {},
          "execution_count": 4
        }
      ]
    },
    {
      "cell_type": "code",
      "source": [
        "# selanjutnya kita akan mencoba mengubah hasil dari variabel matrik di baris pertama dan kedua\n",
        "matrik[1][2] = 18\n",
        "print(matrik[1][2])"
      ],
      "metadata": {
        "colab": {
          "base_uri": "https://localhost:8080/"
        },
        "id": "YMwbxGUYeuv4",
        "outputId": "3127d081-6023-4789-ee41-ca256013b1b3"
      },
      "execution_count": null,
      "outputs": [
        {
          "output_type": "stream",
          "name": "stdout",
          "text": [
            "18\n"
          ]
        }
      ]
    },
    {
      "cell_type": "code",
      "source": [
        "# disini kita akan mengambil semua nilai keseluruhan dari variabel matrik\n",
        "matrik"
      ],
      "metadata": {
        "colab": {
          "base_uri": "https://localhost:8080/"
        },
        "id": "Ay4dHjXCffi7",
        "outputId": "9c2bc74d-d98a-42d8-e5d5-ed5ecbe725c5"
      },
      "execution_count": null,
      "outputs": [
        {
          "output_type": "execute_result",
          "data": {
            "text/plain": [
              "[[2, 3, 5, 7], [4, 6, 18, 10], [11, 12, 13, 14], [15, 17, 19, 21]]"
            ]
          },
          "metadata": {},
          "execution_count": 6
        }
      ]
    },
    {
      "cell_type": "code",
      "source": [
        "# lalu, kita akan memanggil nilai dari variabel matrik\n",
        "for baris in matrik:\n",
        "  print(baris)\n",
        "  for kolom in baris:\n",
        "    print(kolom)\n"
      ],
      "metadata": {
        "colab": {
          "base_uri": "https://localhost:8080/"
        },
        "id": "Z8C7NCyhf6zB",
        "outputId": "c5d31493-d1ec-49bc-f923-d18474c46e53"
      },
      "execution_count": null,
      "outputs": [
        {
          "output_type": "stream",
          "name": "stdout",
          "text": [
            "[2, 3, 5, 7]\n",
            "2\n",
            "3\n",
            "5\n",
            "7\n",
            "[4, 6, 18, 10]\n",
            "4\n",
            "6\n",
            "18\n",
            "10\n",
            "[11, 12, 13, 14]\n",
            "11\n",
            "12\n",
            "13\n",
            "14\n",
            "[15, 17, 19, 21]\n",
            "15\n",
            "17\n",
            "19\n",
            "21\n"
          ]
        }
      ]
    },
    {
      "cell_type": "code",
      "source": [
        "# latihan 2\n",
        "huruf = (\"a\",\"b\",\"c\",\"d\",\"e\")"
      ],
      "metadata": {
        "id": "2reRM-D_o_ji"
      },
      "execution_count": null,
      "outputs": []
    },
    {
      "cell_type": "code",
      "source": [
        "# memanggil nilai kedua dari variabel huruf \n",
        "huruf[2]"
      ],
      "metadata": {
        "colab": {
          "base_uri": "https://localhost:8080/",
          "height": 35
        },
        "id": "HedFxkQGpna6",
        "outputId": "97a92e68-c06e-4774-c017-ec0875b3d6c6"
      },
      "execution_count": null,
      "outputs": [
        {
          "output_type": "execute_result",
          "data": {
            "text/plain": [
              "'c'"
            ],
            "application/vnd.google.colaboratory.intrinsic+json": {
              "type": "string"
            }
          },
          "metadata": {},
          "execution_count": 42
        }
      ]
    },
    {
      "cell_type": "code",
      "source": [
        "#memanggil nilai ke nol-ke tiga dari variabel huruf\n",
        "huruf[0:3]"
      ],
      "metadata": {
        "colab": {
          "base_uri": "https://localhost:8080/"
        },
        "id": "2R_z9iV3p91k",
        "outputId": "a01d9365-0ad6-4fd0-8ce5-951eb6ea6166"
      },
      "execution_count": null,
      "outputs": [
        {
          "output_type": "execute_result",
          "data": {
            "text/plain": [
              "('a', 'b', 'c')"
            ]
          },
          "metadata": {},
          "execution_count": 43
        }
      ]
    },
    {
      "cell_type": "code",
      "source": [
        "#menampilkan semua isi dari varibel huruf\n",
        "for isi in huruf:\n",
        " print(isi)"
      ],
      "metadata": {
        "colab": {
          "base_uri": "https://localhost:8080/"
        },
        "id": "36rRqLOvqj_B",
        "outputId": "c9b4caab-ef5a-4023-99d6-0fd7b761b11e"
      },
      "execution_count": null,
      "outputs": [
        {
          "output_type": "stream",
          "name": "stdout",
          "text": [
            "a\n",
            "b\n",
            "c\n",
            "d\n",
            "e\n"
          ]
        }
      ]
    },
    {
      "cell_type": "markdown",
      "source": [
        "# 5.17 Tuples\n",
        "Tuples mirip dengan list, akan tetapi tuples tidak dapat dirubah isinya. "
      ],
      "metadata": {
        "id": "LUh6ngBgiLmx"
      }
    },
    {
      "cell_type": "code",
      "source": [
        "angka = (3,5,7,8,8,9)"
      ],
      "metadata": {
        "id": "zD3aUKm5jwlb"
      },
      "execution_count": null,
      "outputs": []
    },
    {
      "cell_type": "code",
      "source": [
        "# mencetak angka pertama\n",
        "print(angka[1])"
      ],
      "metadata": {
        "colab": {
          "base_uri": "https://localhost:8080/"
        },
        "id": "rLHNzTgoj2gy",
        "outputId": "cffdb871-8cc0-4323-c819-c5ea55d15e5e"
      },
      "execution_count": null,
      "outputs": [
        {
          "output_type": "stream",
          "name": "stdout",
          "text": [
            "5\n"
          ]
        }
      ]
    },
    {
      "cell_type": "code",
      "source": [
        "# mencetak angka ke nol sampai ke dua namun yang kedua tidak ikut di tampilkan \n",
        "print(angka[0:2])"
      ],
      "metadata": {
        "colab": {
          "base_uri": "https://localhost:8080/"
        },
        "id": "AvaAD_epkNmy",
        "outputId": "268e0d12-9545-4b38-cc8a-1a166b793ba4"
      },
      "execution_count": null,
      "outputs": [
        {
          "output_type": "stream",
          "name": "stdout",
          "text": [
            "(3, 5)\n"
          ]
        }
      ]
    },
    {
      "cell_type": "code",
      "source": [
        "for isi in angka[0:2]:\n",
        " print(isi)"
      ],
      "metadata": {
        "colab": {
          "base_uri": "https://localhost:8080/"
        },
        "id": "37n09Aqgkg4L",
        "outputId": "cd5c1d38-a584-4b6e-b341-aa9f08ee208c"
      },
      "execution_count": null,
      "outputs": [
        {
          "output_type": "stream",
          "name": "stdout",
          "text": [
            "3\n",
            "5\n"
          ]
        }
      ]
    },
    {
      "cell_type": "code",
      "source": [
        "#mengubah nilai di variabel angka\n",
        "angka = 10\n",
        "\n",
        "#saat di run akan tampak berhasil, namun sebenarnya nilai tsb tidak benar\" diubah ke variabel angka"
      ],
      "metadata": {
        "id": "KqufmTaZkhFi"
      },
      "execution_count": null,
      "outputs": []
    },
    {
      "cell_type": "code",
      "source": [
        "# saat menggunakan perintah append, varibel angka akan error saat dirun\n",
        "angka.append(10)\n",
        "# hal ini menunjukkan bahwa nilai varibel tidak bisa diubah sama sekali walaupun data nilai sudah di ganti"
      ],
      "metadata": {
        "colab": {
          "base_uri": "https://localhost:8080/",
          "height": 270
        },
        "id": "K3sZfVcKlnfH",
        "outputId": "c60cac9b-8b26-47fe-87fa-be57f0a17ec9"
      },
      "execution_count": null,
      "outputs": [
        {
          "output_type": "error",
          "ename": "AttributeError",
          "evalue": "ignored",
          "traceback": [
            "\u001b[0;31m---------------------------------------------------------------------------\u001b[0m",
            "\u001b[0;31mAttributeError\u001b[0m                            Traceback (most recent call last)",
            "\u001b[0;32m<ipython-input-28-bcdf30fc66d2>\u001b[0m in \u001b[0;36m<cell line: 1>\u001b[0;34m()\u001b[0m\n\u001b[0;32m----> 1\u001b[0;31m \u001b[0mangka\u001b[0m\u001b[0;34m.\u001b[0m\u001b[0mappend\u001b[0m\u001b[0;34m(\u001b[0m\u001b[0;36m10\u001b[0m\u001b[0;34m)\u001b[0m\u001b[0;34m\u001b[0m\u001b[0;34m\u001b[0m\u001b[0m\n\u001b[0m",
            "\u001b[0;31mAttributeError\u001b[0m: 'int' object has no attribute 'append'"
          ]
        }
      ]
    },
    {
      "cell_type": "code",
      "source": [
        "#kembali lagi pada definisi tuples yaitu bahwa data nilai tidak bisa dirubah/dihapus isinya\n",
        "angka.remove(3)"
      ],
      "metadata": {
        "colab": {
          "base_uri": "https://localhost:8080/",
          "height": 270
        },
        "id": "ApkoEF-ImZU9",
        "outputId": "8eb24a22-0725-43c9-87f5-17cea3b42eb2"
      },
      "execution_count": null,
      "outputs": [
        {
          "output_type": "error",
          "ename": "AttributeError",
          "evalue": "ignored",
          "traceback": [
            "\u001b[0;31m---------------------------------------------------------------------------\u001b[0m",
            "\u001b[0;31mAttributeError\u001b[0m                            Traceback (most recent call last)",
            "\u001b[0;32m<ipython-input-29-9544636de629>\u001b[0m in \u001b[0;36m<cell line: 1>\u001b[0;34m()\u001b[0m\n\u001b[0;32m----> 1\u001b[0;31m \u001b[0mangka\u001b[0m\u001b[0;34m.\u001b[0m\u001b[0mremove\u001b[0m\u001b[0;34m(\u001b[0m\u001b[0;36m3\u001b[0m\u001b[0;34m)\u001b[0m\u001b[0;34m\u001b[0m\u001b[0;34m\u001b[0m\u001b[0m\n\u001b[0m",
            "\u001b[0;31mAttributeError\u001b[0m: 'int' object has no attribute 'remove'"
          ]
        }
      ]
    },
    {
      "cell_type": "code",
      "source": [
        "\n",
        "# fungsi count adalah untuk menghitung berapa kali munculnya objek dalam suatu elemen yg berada di list\n",
        "angka.count(8)"
      ],
      "metadata": {
        "colab": {
          "base_uri": "https://localhost:8080/"
        },
        "id": "qGdcEUL-n4x6",
        "outputId": "220daef5-8daf-4302-9767-2983a3028c94"
      },
      "execution_count": null,
      "outputs": [
        {
          "output_type": "execute_result",
          "data": {
            "text/plain": [
              "2"
            ]
          },
          "metadata": {},
          "execution_count": 49
        }
      ]
    },
    {
      "cell_type": "code",
      "source": [
        "# fungsi index adalah untuk menemukan posisi suatu elemen dalam objek/variabel\n",
        "angka.index(3)"
      ],
      "metadata": {
        "colab": {
          "base_uri": "https://localhost:8080/"
        },
        "id": "k5SpzMmJsRx3",
        "outputId": "484f1e93-8383-45fc-9429-60b982461048"
      },
      "execution_count": null,
      "outputs": [
        {
          "output_type": "execute_result",
          "data": {
            "text/plain": [
              "0"
            ]
          },
          "metadata": {},
          "execution_count": 9
        }
      ]
    },
    {
      "cell_type": "code",
      "source": [
        "# Latihan 2\n",
        "# Membuat tuples\n",
        "\n",
        "fruit = (\"apple\", \"banana\", \"cherry\")\n",
        "\n",
        "\n",
        "# Mengakses elemen tuples\n",
        "\n",
        "print(fruit[0])\n",
        "\n",
        "print(fruit[1])\n",
        "\n",
        "print(fruit[2])"
      ],
      "metadata": {
        "id": "pOlZ6s_Ayt7p",
        "colab": {
          "base_uri": "https://localhost:8080/"
        },
        "outputId": "08545a2a-254f-4885-a0aa-d7a949ef44f8"
      },
      "execution_count": null,
      "outputs": [
        {
          "output_type": "stream",
          "name": "stdout",
          "text": [
            "apple\n",
            "banana\n",
            "cherry\n"
          ]
        }
      ]
    },
    {
      "cell_type": "code",
      "source": [
        "# Menambah tuples\n",
        "\n",
        "buah= fruit + (\"mango\",)\n",
        "\n",
        "print(buah)"
      ],
      "metadata": {
        "colab": {
          "base_uri": "https://localhost:8080/"
        },
        "id": "GZKLbBpMz5uI",
        "outputId": "04a2381a-7fc4-498a-dc9f-a23a7a3c9580"
      },
      "execution_count": null,
      "outputs": [
        {
          "output_type": "stream",
          "name": "stdout",
          "text": [
            "('apple', 'banana', 'cherry', 'mango')\n"
          ]
        }
      ]
    },
    {
      "cell_type": "code",
      "source": [
        "# Menghapus tuples\n",
        "\n",
        "del fruit\n",
        "\n",
        "print(fruit)\n",
        "\n",
        "#perintah ini akan menghasilkan error karena tuple sudah di hapus"
      ],
      "metadata": {
        "colab": {
          "base_uri": "https://localhost:8080/",
          "height": 305
        },
        "id": "vzCeL5-d0MnM",
        "outputId": "9cba9725-b903-4ac9-9861-fa7799dc67bc"
      },
      "execution_count": null,
      "outputs": [
        {
          "output_type": "error",
          "ename": "NameError",
          "evalue": "ignored",
          "traceback": [
            "\u001b[0;31m---------------------------------------------------------------------------\u001b[0m",
            "\u001b[0;31mNameError\u001b[0m                                 Traceback (most recent call last)",
            "\u001b[0;32m<ipython-input-6-c2ae1b652d20>\u001b[0m in \u001b[0;36m<cell line: 5>\u001b[0;34m()\u001b[0m\n\u001b[1;32m      3\u001b[0m \u001b[0;32mdel\u001b[0m \u001b[0mfruit\u001b[0m\u001b[0;34m\u001b[0m\u001b[0;34m\u001b[0m\u001b[0m\n\u001b[1;32m      4\u001b[0m \u001b[0;34m\u001b[0m\u001b[0m\n\u001b[0;32m----> 5\u001b[0;31m \u001b[0mprint\u001b[0m\u001b[0;34m(\u001b[0m\u001b[0mfruit\u001b[0m\u001b[0;34m)\u001b[0m\u001b[0;34m\u001b[0m\u001b[0;34m\u001b[0m\u001b[0m\n\u001b[0m",
            "\u001b[0;31mNameError\u001b[0m: name 'fruit' is not defined"
          ]
        }
      ]
    },
    {
      "cell_type": "code",
      "source": [
        "\n",
        "# Latihan 3\n",
        "# membuat tuples dengan nama-nama bulan\n",
        "\n",
        "bulan = (\"Januari\", \"Februari\", \"Maret\", \"April\", \"Mei\", \"Juni\", \"Juli\", \"Agustus\", \"September\", \"Oktober\", \"November\", \"Desember\",)"
      ],
      "metadata": {
        "id": "9GSov6FP0_ii"
      },
      "execution_count": null,
      "outputs": []
    },
    {
      "cell_type": "code",
      "source": [
        "# menampilkan isi dari tuples\n",
        "\n",
        "print(bulan)"
      ],
      "metadata": {
        "colab": {
          "base_uri": "https://localhost:8080/"
        },
        "id": "EqTMRz-B1BVv",
        "outputId": "a1335aa7-e08b-4ea3-c3bd-e2c56b28f8d0"
      },
      "execution_count": null,
      "outputs": [
        {
          "output_type": "stream",
          "name": "stdout",
          "text": [
            "('Januari', 'Februari', 'Maret', 'April', 'Mei', 'Juni', 'Juli', 'Agustus', 'September', 'Oktober', 'November', 'Desember')\n"
          ]
        }
      ]
    },
    {
      "cell_type": "code",
      "source": [
        "# mengakses elemen tuples menggunakan indeks\n",
        "\n",
        "print(bulan[0]) \n",
        "\n",
        "print(bulan[7])"
      ],
      "metadata": {
        "colab": {
          "base_uri": "https://localhost:8080/"
        },
        "id": "2mTrXMhf1Gwf",
        "outputId": "0f85c845-5ae6-4b99-91e5-c60675db6f4a"
      },
      "execution_count": null,
      "outputs": [
        {
          "output_type": "stream",
          "name": "stdout",
          "text": [
            "Januari\n",
            "Agustus\n"
          ]
        }
      ]
    },
    {
      "cell_type": "code",
      "source": [
        "# tuples bersifat immutable (tidak dapat diubah)\n",
        "\n",
        "bulan[0] = \"New Year\""
      ],
      "metadata": {
        "colab": {
          "base_uri": "https://localhost:8080/",
          "height": 322
        },
        "id": "iw4rwhYy1PT5",
        "outputId": "8d20296c-4db0-4a27-d337-1072932f0c03"
      },
      "execution_count": null,
      "outputs": [
        {
          "output_type": "error",
          "ename": "TypeError",
          "evalue": "ignored",
          "traceback": [
            "\u001b[0;31m---------------------------------------------------------------------------\u001b[0m",
            "\u001b[0;31mTypeError\u001b[0m                                 Traceback (most recent call last)",
            "\u001b[0;32m<ipython-input-11-689f92a10f7e>\u001b[0m in \u001b[0;36m<cell line: 3>\u001b[0;34m()\u001b[0m\n\u001b[1;32m      1\u001b[0m \u001b[0;31m# tuple bersifat immutable (tidak dapat diubah)\u001b[0m\u001b[0;34m\u001b[0m\u001b[0;34m\u001b[0m\u001b[0m\n\u001b[1;32m      2\u001b[0m \u001b[0;34m\u001b[0m\u001b[0m\n\u001b[0;32m----> 3\u001b[0;31m \u001b[0mbulan\u001b[0m\u001b[0;34m[\u001b[0m\u001b[0;36m0\u001b[0m\u001b[0;34m]\u001b[0m \u001b[0;34m=\u001b[0m \u001b[0;34m\"New Year\"\u001b[0m\u001b[0;34m\u001b[0m\u001b[0;34m\u001b[0m\u001b[0m\n\u001b[0m",
            "\u001b[0;31mTypeError\u001b[0m: 'tuple' object does not support item assignment"
          ]
        }
      ]
    },
    {
      "cell_type": "code",
      "source": [
        "# mencari indeks dari sebuah elemen di dalam tuple\n",
        "\n",
        "print(bulan.index(\"Juli\")) #"
      ],
      "metadata": {
        "colab": {
          "base_uri": "https://localhost:8080/"
        },
        "id": "-ETIF4Nb1PpW",
        "outputId": "88108544-99be-42bc-b0db-2a4ac8f00192"
      },
      "execution_count": null,
      "outputs": [
        {
          "output_type": "stream",
          "name": "stdout",
          "text": [
            "6\n"
          ]
        }
      ]
    },
    {
      "cell_type": "code",
      "source": [
        "# menghitung jumlah kemunculan suatu elemen di dalam tuple\n",
        "\n",
        "print(bulan.count(\"Juni\"))"
      ],
      "metadata": {
        "colab": {
          "base_uri": "https://localhost:8080/"
        },
        "id": "wAOGzHAh1h4c",
        "outputId": "9db0f027-fe5c-4c10-af47-ac8424a6853f"
      },
      "execution_count": null,
      "outputs": [
        {
          "output_type": "stream",
          "name": "stdout",
          "text": [
            "1\n"
          ]
        }
      ]
    },
    {
      "cell_type": "markdown",
      "source": [
        "# 5.18 Dictionaries\n",
        "## Pendahuluan :\n",
        "Dictionaries digunakan jika data nya terkait satu sama lain. Misalnya data\n",
        "seseorang yang terdiri dari umur, nama, tanggal lahir merupakan satu kesatuan\n",
        "data yang bersumber dari orang tersebut."
      ],
      "metadata": {
        "id": "mwSROdv42IBy"
      }
    },
    {
      "cell_type": "code",
      "source": [
        "data_pribadi = {\n",
        " \"Nama\" : \"Byun Baekhyun\",\n",
        "\"Umur\" : 30,\n",
        "\"Apakah_WNI\" : \"False\"\n",
        "}"
      ],
      "metadata": {
        "id": "Y20x2yCOMRkT"
      },
      "execution_count": null,
      "outputs": []
    },
    {
      "cell_type": "code",
      "source": [
        "# kita akan menampilkan \"Nama\" dari variabel data pribadi\n",
        "print(data_pribadi[\"Nama\"])"
      ],
      "metadata": {
        "colab": {
          "base_uri": "https://localhost:8080/"
        },
        "id": "6fwNynAxNx61",
        "outputId": "455d810b-a419-4e3b-b564-d8b347d1283f"
      },
      "execution_count": null,
      "outputs": [
        {
          "output_type": "stream",
          "name": "stdout",
          "text": [
            "Byun Baekhyun\n"
          ]
        }
      ]
    },
    {
      "cell_type": "code",
      "source": [
        "print(data_pribadi[\"nama\"])\n",
        "# perintah ini akan menghasilkan error karena penginisialisasinya tidak sesuai dengan data pribadi"
      ],
      "metadata": {
        "colab": {
          "base_uri": "https://localhost:8080/",
          "height": 270
        },
        "id": "EDE6SGq7NyLr",
        "outputId": "2586017a-80f5-42b0-981c-363ec3db3df8"
      },
      "execution_count": null,
      "outputs": [
        {
          "output_type": "error",
          "ename": "KeyError",
          "evalue": "ignored",
          "traceback": [
            "\u001b[0;31m---------------------------------------------------------------------------\u001b[0m",
            "\u001b[0;31mKeyError\u001b[0m                                  Traceback (most recent call last)",
            "\u001b[0;32m<ipython-input-3-47eff919f518>\u001b[0m in \u001b[0;36m<cell line: 1>\u001b[0;34m()\u001b[0m\n\u001b[0;32m----> 1\u001b[0;31m \u001b[0mprint\u001b[0m\u001b[0;34m(\u001b[0m\u001b[0mdata_pribadi\u001b[0m\u001b[0;34m[\u001b[0m\u001b[0;34m\"nama\"\u001b[0m\u001b[0;34m]\u001b[0m\u001b[0;34m)\u001b[0m\u001b[0;34m\u001b[0m\u001b[0;34m\u001b[0m\u001b[0m\n\u001b[0m",
            "\u001b[0;31mKeyError\u001b[0m: 'nama'"
          ]
        }
      ]
    },
    {
      "cell_type": "code",
      "source": [
        "#fungsi .get digunakan untuk mengambil nilai dari sebuah kunci (key) yang ada pada sebuah dictionary.\n",
        "print(data_pribadi.get(\"Nama\"))"
      ],
      "metadata": {
        "colab": {
          "base_uri": "https://localhost:8080/"
        },
        "id": "Cx7hkAt1Ojlu",
        "outputId": "a16a335c-7f07-46cd-ae4f-0886d00fa997"
      },
      "execution_count": null,
      "outputs": [
        {
          "output_type": "stream",
          "name": "stdout",
          "text": [
            "Byun Baekhyun\n"
          ]
        }
      ]
    },
    {
      "cell_type": "code",
      "source": [
        "\n",
        "# perintah ini sama dengan sebelumnya, namun ini akan menampilkan none karena tidak ada data dalam \"nama\"\n",
        "print(data_pribadi.get(\"nama\"))"
      ],
      "metadata": {
        "colab": {
          "base_uri": "https://localhost:8080/"
        },
        "id": "dRgp0R3yOktk",
        "outputId": "3ae925b8-e4e7-48bc-b6e2-ea173ad219b8"
      },
      "execution_count": null,
      "outputs": [
        {
          "output_type": "stream",
          "name": "stdout",
          "text": [
            "None\n"
          ]
        }
      ]
    },
    {
      "cell_type": "code",
      "source": [
        "# perintah ini digunakan untuk mendapatkan data \"tanggal lahir\" namun, karena tidak ada data tentang \"tanggal lahir\" maka perintah ini akan menghasilkan \"none\"\n",
        "print(data_pribadi.get(\"tanggal_lahir\"))"
      ],
      "metadata": {
        "colab": {
          "base_uri": "https://localhost:8080/"
        },
        "id": "rGUBdojfRDM_",
        "outputId": "571c7a20-8401-41f8-fa21-6a5a922dc879"
      },
      "execution_count": null,
      "outputs": [
        {
          "output_type": "stream",
          "name": "stdout",
          "text": [
            "None\n"
          ]
        }
      ]
    },
    {
      "cell_type": "code",
      "source": [
        "# perintah ini merupakan lanjutan dari perintah diatas, dimana kita menambahkan nilai data pada \"tanggal lahir\"\n",
        "print(data_pribadi.get(\"tanggal_lahir\",\"6-5-1992\"))"
      ],
      "metadata": {
        "colab": {
          "base_uri": "https://localhost:8080/"
        },
        "id": "q7BUSxUxOlxD",
        "outputId": "fbcc7937-d513-47a0-cb9a-0bb4efb77a6b"
      },
      "execution_count": null,
      "outputs": [
        {
          "output_type": "stream",
          "name": "stdout",
          "text": [
            "6-5-1992\n"
          ]
        }
      ]
    },
    {
      "cell_type": "code",
      "source": [
        "# menampilkan keseluruhan data dalam \"data pribadi\"\n",
        "print(data_pribadi)"
      ],
      "metadata": {
        "colab": {
          "base_uri": "https://localhost:8080/"
        },
        "id": "WHPabxtQOmTR",
        "outputId": "0ecec768-644f-43aa-9a66-4ca9f2e14436"
      },
      "execution_count": null,
      "outputs": [
        {
          "output_type": "stream",
          "name": "stdout",
          "text": [
            "{'Nama': 'Byun Baekhyun', 'Umur': 30, 'Apakah_WNI': 'False'}\n"
          ]
        }
      ]
    },
    {
      "cell_type": "code",
      "source": [
        "print(data_pribadi[\"tanggal_lahir\"])"
      ],
      "metadata": {
        "colab": {
          "base_uri": "https://localhost:8080/",
          "height": 290
        },
        "id": "xu-EgFBwOmuV",
        "outputId": "879a74aa-f472-429d-9b76-6529a83419be"
      },
      "execution_count": null,
      "outputs": [
        {
          "output_type": "error",
          "ename": "KeyError",
          "evalue": "ignored",
          "traceback": [
            "\u001b[0;31m---------------------------------------------------------------------------\u001b[0m",
            "\u001b[0;31mKeyError\u001b[0m                                  Traceback (most recent call last)",
            "\u001b[0;32m<ipython-input-21-e2f73175bb20>\u001b[0m in \u001b[0;36m<cell line: 1>\u001b[0;34m()\u001b[0m\n\u001b[0;32m----> 1\u001b[0;31m \u001b[0mprint\u001b[0m\u001b[0;34m(\u001b[0m\u001b[0mdata_pribadi\u001b[0m\u001b[0;34m[\u001b[0m\u001b[0;34m\"tanggal_lahir\"\u001b[0m\u001b[0;34m]\u001b[0m\u001b[0;34m)\u001b[0m\u001b[0;34m\u001b[0m\u001b[0;34m\u001b[0m\u001b[0m\n\u001b[0m",
            "\u001b[0;31mKeyError\u001b[0m: 'tanggal_lahir'"
          ]
        }
      ]
    },
    {
      "cell_type": "code",
      "source": [
        "\n",
        "# menambahkan data \"HP\" kedalam \"data pribadi\"\n",
        "data_pribadi[\"HP\"] = \"087881392898\""
      ],
      "metadata": {
        "id": "AMR9E4McShRJ"
      },
      "execution_count": null,
      "outputs": []
    },
    {
      "cell_type": "code",
      "source": [
        "print(data_pribadi[\"HP\"])"
      ],
      "metadata": {
        "colab": {
          "base_uri": "https://localhost:8080/"
        },
        "id": "4FljBCRsS8dR",
        "outputId": "9c444d3f-3207-42c6-a6cc-20c9fd8392c7"
      },
      "execution_count": null,
      "outputs": [
        {
          "output_type": "stream",
          "name": "stdout",
          "text": [
            "087881392898\n"
          ]
        }
      ]
    },
    {
      "cell_type": "code",
      "source": [
        "print(data_pribadi)"
      ],
      "metadata": {
        "colab": {
          "base_uri": "https://localhost:8080/"
        },
        "id": "G3Q7uh5NS88q",
        "outputId": "070106a8-9ed3-4353-ff4b-99ddeae75b14"
      },
      "execution_count": null,
      "outputs": [
        {
          "output_type": "stream",
          "name": "stdout",
          "text": [
            "{'Nama': 'Byun Baekhyun', 'Umur': 30, 'Apakah_WNI': 'False', 'HP': '087881392898'}\n"
          ]
        }
      ]
    },
    {
      "cell_type": "code",
      "source": [
        "# Latihan 2\n",
        "# membuat dictionary kosong\n",
        "\n",
        "person = {}"
      ],
      "metadata": {
        "id": "QKetqeo-YBkH"
      },
      "execution_count": null,
      "outputs": []
    },
    {
      "cell_type": "code",
      "source": [
        "# menambahkan data ke dalam dictionary\n",
        "\n",
        "person[\"name\"] = \"Ryu Sung Jun\"\n",
        "\n",
        "person[\"age\"] = 28\n",
        "\n",
        "person[\"address\"] = \"Jakarta\""
      ],
      "metadata": {
        "id": "8cmzmeP1YCby"
      },
      "execution_count": null,
      "outputs": []
    },
    {
      "cell_type": "code",
      "source": [
        "# menampilkan data pada dictionary\n",
        "\n",
        "print(person)"
      ],
      "metadata": {
        "colab": {
          "base_uri": "https://localhost:8080/"
        },
        "id": "E2NcdrfzYC7J",
        "outputId": "1c6ae496-b995-421c-a73f-30295d5e9b38"
      },
      "execution_count": null,
      "outputs": [
        {
          "output_type": "stream",
          "name": "stdout",
          "text": [
            "{'name': 'Ryu Sung Jun', 'age': 28, 'address': 'Jakarta'}\n"
          ]
        }
      ]
    },
    {
      "cell_type": "code",
      "source": [
        "# mengakses nilai pada dictionary menggunakan kunci\n",
        "\n",
        "print(person[\"name\"])\n",
        "print(person[\"age\"])"
      ],
      "metadata": {
        "colab": {
          "base_uri": "https://localhost:8080/"
        },
        "id": "xnKlodKJYDir",
        "outputId": "f957ffb8-2569-4fc9-b754-6d64c1d335a6"
      },
      "execution_count": null,
      "outputs": [
        {
          "output_type": "stream",
          "name": "stdout",
          "text": [
            "Ryu Sung Jun\n",
            "28\n"
          ]
        }
      ]
    },
    {
      "cell_type": "code",
      "source": [
        "# mengubah nilai pada dictionary menggunakan kunci\n",
        "\n",
        "person[\"age\"] = 23"
      ],
      "metadata": {
        "id": "-yiqekEFYEAX"
      },
      "execution_count": null,
      "outputs": []
    },
    {
      "cell_type": "code",
      "source": [
        "# menghapus data pada dictionary menggunakan kunci\n",
        "\n",
        "del person[\"address\"]"
      ],
      "metadata": {
        "id": "CMJ6_VExYEdx"
      },
      "execution_count": null,
      "outputs": []
    },
    {
      "cell_type": "code",
      "source": [
        "# menampilkan data pada dictionary setelah diubah dan dihapus\n",
        "\n",
        "print(person)"
      ],
      "metadata": {
        "colab": {
          "base_uri": "https://localhost:8080/"
        },
        "id": "TBs1110DYo-G",
        "outputId": "bcdf0ea7-1276-46a2-de42-ece34267219c"
      },
      "execution_count": null,
      "outputs": [
        {
          "output_type": "stream",
          "name": "stdout",
          "text": [
            "{'name': 'Ryu Sung Jun', 'age': 23}\n"
          ]
        }
      ]
    },
    {
      "cell_type": "code",
      "source": [
        "# membuat dictionary dengan beberapa elemen\n",
        "\n",
        "students = {\"zayn\": 80, \"harry\": 90, \"jake\": 75, \"mark\": 85}"
      ],
      "metadata": {
        "id": "irRQTixWYptQ"
      },
      "execution_count": null,
      "outputs": []
    },
    {
      "cell_type": "code",
      "source": [
        "# menampilkan nilai pada dictionary menggunakan kunci\n",
        "\n",
        "print(students[\"zayn\"])\n",
        "\n",
        "print(students[\"harry\"])"
      ],
      "metadata": {
        "colab": {
          "base_uri": "https://localhost:8080/"
        },
        "id": "elp1m9HJYqM1",
        "outputId": "8ac5cbce-b314-45d3-eb29-aa41b2224f96"
      },
      "execution_count": null,
      "outputs": [
        {
          "output_type": "stream",
          "name": "stdout",
          "text": [
            "80\n",
            "90\n"
          ]
        }
      ]
    },
    {
      "cell_type": "code",
      "source": [
        "# menampilkan semua kunci pada dictionary\n",
        "\n",
        "print(students.keys())"
      ],
      "metadata": {
        "colab": {
          "base_uri": "https://localhost:8080/"
        },
        "id": "GiKlc9vDYqnS",
        "outputId": "9e370e8b-8a76-49ee-875c-ccc1bbb2fbf4"
      },
      "execution_count": null,
      "outputs": [
        {
          "output_type": "stream",
          "name": "stdout",
          "text": [
            "dict_keys(['zayn', 'harry', 'jake', 'mark'])\n"
          ]
        }
      ]
    },
    {
      "cell_type": "code",
      "source": [
        "# menampilkan semua nilai pada dictionary\n",
        "\n",
        "print(students.values())"
      ],
      "metadata": {
        "colab": {
          "base_uri": "https://localhost:8080/"
        },
        "id": "F_lEOIw4YrDi",
        "outputId": "13325154-b5d1-441c-9cb4-a17817e4540e"
      },
      "execution_count": null,
      "outputs": [
        {
          "output_type": "stream",
          "name": "stdout",
          "text": [
            "dict_values([80, 90, 75, 85])\n"
          ]
        }
      ]
    },
    {
      "cell_type": "code",
      "source": [
        "# menampilkan pasangan kunci dan nilai pada dictionary\n",
        "\n",
        "print(students.items())"
      ],
      "metadata": {
        "colab": {
          "base_uri": "https://localhost:8080/"
        },
        "id": "_rTi5WzvZnCS",
        "outputId": "bf9f8a58-8d8b-40ef-f110-d9458e6ddb7e"
      },
      "execution_count": null,
      "outputs": [
        {
          "output_type": "stream",
          "name": "stdout",
          "text": [
            "dict_items([('zayn', 80), ('harry', 90), ('jake', 75), ('mark', 85)])\n"
          ]
        }
      ]
    },
    {
      "cell_type": "markdown",
      "source": [
        " # 5.19 Fungsi dalam Python\n",
        "\n",
        "## Pendahuluan\n",
        "Pada dasarnya fungsi\n",
        "dibentuk untuk menghidari pengulangan pembuatan program secara manual\n",
        "dimana fungsi tersebut memiliki pengulangan yang tinggi dalam program yang kita buat. Jadi untuk mempermudah dan meringkas program yang kita buat,\n",
        "setiap fungsi tersebut dibutuhkan tinggal kita panggil."
      ],
      "metadata": {
        "id": "cJ3HVx_dWRoQ"
      }
    },
    {
      "cell_type": "code",
      "source": [
        "\n",
        "# menginput nama lengkap\n",
        "def full_nama(first_name,last_name):\n",
        "  print(f\"Nama lengkapnya adalah {nama_depan} {nama_belakang}\")\n",
        "  \n",
        "first_name = input(\"Nama depan saya adalah \")\n",
        "last_name = input(\"Nama belakang saya adalah \")\n",
        "full_nama = input(\"nama_depan,nama_belakang \")"
      ],
      "metadata": {
        "id": "RIU23oiFwRy7"
      },
      "execution_count": null,
      "outputs": []
    },
    {
      "cell_type": "code",
      "source": [
        "# latihan 2\n",
        "#disini kita akan menghitung keliling persegi panjang\n",
        "def hitung_keliling_bangunan():\n",
        "    sisi1 = float(input(\"Masukkan panjang sisi 1: \"))\n",
        "    sisi2 = float(input(\"Masukkan panjang sisi 2: \"))\n",
        "    sisi3 = float(input(\"Masukkan panjang sisi 3: \"))\n",
        "    sisi4 = float(input(\"Masukkan panjang sisi 4: \"))\n",
        "    keliling = sisi1 + sisi2 + sisi3 + sisi4\n",
        "    return keliling\n",
        "\n",
        "def cek_persegi_panjang():\n",
        "    sisi1 = float(input(\"Masukkan panjang sisi 1: \"))\n",
        "    sisi2 = float(input(\"Masukkan panjang sisi 2: \"))\n",
        "    if sisi1 == sisi2:\n",
        "        print(\"Bangunan tersebut merupakan persegi.\")\n",
        "    else:\n",
        "        print(\"Bangunan tersebut merupakan persegi panjang.\")\n",
        "\n",
        "keliling_bangunan = hitung_keliling_bangunan()\n",
        "print(\"Keliling bangunan tersebut adalah\", keliling_bangunan)\n",
        "cek_persegi_panjang()"
      ],
      "metadata": {
        "id": "EVZWGWug1xmb"
      },
      "execution_count": null,
      "outputs": []
    },
    {
      "cell_type": "markdown",
      "source": [
        "# 5.19.1 Tugas Fungsi pada Python"
      ],
      "metadata": {
        "id": "_duhao7z3MUh"
      }
    },
    {
      "cell_type": "code",
      "source": [
        "\n",
        "# menghitung luas segitiga\n",
        "def hitung_luas_segitiga(alas, tinggi):\n",
        "    luas = 0.5 * alas * tinggi\n",
        "    return luas\n",
        "#mencetak luas segitiga\n",
        "luas_segitiga = hitung_luas_segitiga(5, 7)\n",
        "print(luas_segitiga)"
      ],
      "metadata": {
        "colab": {
          "base_uri": "https://localhost:8080/"
        },
        "id": "WtP5kzBLwbhP",
        "outputId": "9a75c784-bd4a-42c9-d6e5-c6a694b141c2"
      },
      "execution_count": null,
      "outputs": [
        {
          "output_type": "stream",
          "name": "stdout",
          "text": [
            "17.5\n"
          ]
        }
      ]
    },
    {
      "cell_type": "code",
      "source": [
        "#kita mengimpor modul math, yang digunakan untuk menghitung nilai-nilai matematika seperti akar kuadrat dan pi.\n",
        "import math \n",
        "#mendefinisikan fungsi hitung_luas_layang_layang\n",
        "def hitung_luas_layang_layang():\n",
        "    diagonal1 = float(input(\"Masukkan panjang diagonal 1: \"))\n",
        "    diagonal2 = float(input(\"Masukkan panjang diagonal 2: \"))\n",
        "    luas = (diagonal1 * diagonal2) / 2\n",
        "    return luas\n",
        "#mencetak luas layang-layang\n",
        "hitung_luas_layang_layang()\n",
        "print(\"Luas layang-layang tersebut adalah\", luas_layang_layang)"
      ],
      "metadata": {
        "id": "NGdvCAi43kOk"
      },
      "execution_count": null,
      "outputs": []
    },
    {
      "cell_type": "code",
      "source": [
        "import math \n",
        "def hitung_luas_jajar_genjang():\n",
        "    alas = float(input(\"Masukkan panjang alas: \"))\n",
        "    tinggi = float(input(\"Masukkan tinggi: \"))\n",
        "    luas = alas * tinggi\n",
        "    return luas\n",
        "luas_jajar_genjang = hitung_luas_jajar_genjang()\n",
        "print(\"Luas jajar genjang tersebut adalah\", luas_jajar_genjang)"
      ],
      "metadata": {
        "id": "a1krw7o23lQk"
      },
      "execution_count": null,
      "outputs": []
    },
    {
      "cell_type": "code",
      "source": [
        "import math \n",
        "def hitung_luas_kerucut():\n",
        "    jari_jari = float(input(\"Masukkan jari-jari: \"))\n",
        "    tinggi = float(input(\"Masukkan tinggi: \"))\n",
        "    luas_selimut = math.pi * jari_jari * math.sqrt(jari_jari**2 + tinggi**2)\n",
        "    luas_alas = math.pi * jari_jari**2\n",
        "    luas = luas_selimut + luas_alas\n",
        "    return luas\n",
        "luas_kerucut = hitung_luas_kerucut()\n",
        "print(\"Luas kerucut tersebut adalah\", luas_kerucut)"
      ],
      "metadata": {
        "id": "6V4lMvKd3mN2"
      },
      "execution_count": null,
      "outputs": []
    },
    {
      "cell_type": "markdown",
      "source": [
        "# 5.20 Numpy\n",
        "## Pendahuluan\n",
        "\n",
        "Numpy merupakan salah satu Library dalam Python yang memiliki keunggulan dalam perhitungan menggunakan vektor dam matrik dalam berbagai dimensi"
      ],
      "metadata": {
        "id": "AyeM1G600MwF"
      }
    },
    {
      "cell_type": "code",
      "source": [
        "import pandas as pd"
      ],
      "metadata": {
        "id": "-dAbrYpU5yzD"
      },
      "execution_count": null,
      "outputs": []
    },
    {
      "cell_type": "markdown",
      "source": [
        "## 5.20.1 Perintah dasar pada numpy\n",
        "\n",
        "mengetahui dimensi dan ukuran variabel"
      ],
      "metadata": {
        "id": "aPxcjbu86WyN"
      }
    },
    {
      "cell_type": "code",
      "source": [
        "import numpy as np"
      ],
      "metadata": {
        "id": "UW4H4Keu8scV"
      },
      "execution_count": null,
      "outputs": []
    },
    {
      "cell_type": "code",
      "source": [
        "# membuat variabel\n",
        "a = np.array([3,8,11,13])\n",
        "# mencetak variabel a\n",
        "print(a)"
      ],
      "metadata": {
        "colab": {
          "base_uri": "https://localhost:8080/"
        },
        "id": "r0dZWQo38Ayg",
        "outputId": "5bd9781f-925d-4fb4-cd14-8a63a42017cb"
      },
      "execution_count": null,
      "outputs": [
        {
          "output_type": "stream",
          "name": "stdout",
          "text": [
            "[ 3  8 11 13]\n"
          ]
        }
      ]
    },
    {
      "cell_type": "code",
      "source": [
        "# membuat variabel b\n",
        "b = np.array([[3,7,8,9],[2,4,1,9]])\n",
        "# mengakses variabel b\n",
        "print(b)"
      ],
      "metadata": {
        "colab": {
          "base_uri": "https://localhost:8080/"
        },
        "id": "I6Ub_Ph59eJb",
        "outputId": "067530eb-3e32-4ed5-a524-c987c172e89d"
      },
      "execution_count": null,
      "outputs": [
        {
          "output_type": "stream",
          "name": "stdout",
          "text": [
            "[[3 7 8 9]\n",
            " [2 4 1 9]]\n"
          ]
        }
      ]
    },
    {
      "cell_type": "code",
      "source": [
        "# membuat variabel c\n",
        "c = np.array([[[0,1,2,3],[4,5,6,7],[8,9,2,3],[4,9,8,7],[3,5,7,9],[2,4,6,8]]])\n",
        "# mengakses variabel c\n",
        "print(c)"
      ],
      "metadata": {
        "colab": {
          "base_uri": "https://localhost:8080/"
        },
        "id": "JWiCCdAsZ-Vw",
        "outputId": "71294838-4ba8-4042-9fe7-a714a6bf0015"
      },
      "execution_count": null,
      "outputs": [
        {
          "output_type": "stream",
          "name": "stdout",
          "text": [
            "[[[0 1 2 3]\n",
            "  [4 5 6 7]\n",
            "  [8 9 2 3]\n",
            "  [4 9 8 7]\n",
            "  [3 5 7 9]\n",
            "  [2 4 6 8]]]\n"
          ]
        }
      ]
    },
    {
      "cell_type": "code",
      "source": [
        "# .ndim berfungsi untuk mengembalikan jumlah dimensi atau rank dari sebuah array.\n",
        "a.ndim"
      ],
      "metadata": {
        "colab": {
          "base_uri": "https://localhost:8080/"
        },
        "id": "RSU5zcQMZ_fm",
        "outputId": "034e0dbc-e782-4a4e-e4eb-09ac8446de63"
      },
      "execution_count": null,
      "outputs": [
        {
          "output_type": "execute_result",
          "data": {
            "text/plain": [
              "1"
            ]
          },
          "metadata": {},
          "execution_count": 11
        }
      ]
    },
    {
      "cell_type": "code",
      "source": [
        "b.ndim"
      ],
      "metadata": {
        "colab": {
          "base_uri": "https://localhost:8080/"
        },
        "id": "MVNVaUGpaAM-",
        "outputId": "410dd53c-cb22-49b5-d0c2-76afe572989d"
      },
      "execution_count": null,
      "outputs": [
        {
          "output_type": "execute_result",
          "data": {
            "text/plain": [
              "2"
            ]
          },
          "metadata": {},
          "execution_count": 12
        }
      ]
    },
    {
      "cell_type": "code",
      "source": [
        "c.ndim"
      ],
      "metadata": {
        "colab": {
          "base_uri": "https://localhost:8080/"
        },
        "id": "wOhI46ugaAyk",
        "outputId": "e8fff064-073f-4ce4-c372-9ccbb20c51b3"
      },
      "execution_count": null,
      "outputs": [
        {
          "output_type": "execute_result",
          "data": {
            "text/plain": [
              "3"
            ]
          },
          "metadata": {},
          "execution_count": 13
        }
      ]
    },
    {
      "cell_type": "code",
      "source": [
        "# .shape berfungsi untuk mengembalikan tuple yang berisi jumlah elemen pada setiap dimensi dari sebuah array NumPy.\n",
        "a.shape"
      ],
      "metadata": {
        "colab": {
          "base_uri": "https://localhost:8080/"
        },
        "id": "dB7zdFbpbu0o",
        "outputId": "6849f839-3fc6-42aa-ce2d-f3cb3b2454cd"
      },
      "execution_count": null,
      "outputs": [
        {
          "output_type": "execute_result",
          "data": {
            "text/plain": [
              "(4,)"
            ]
          },
          "metadata": {},
          "execution_count": 14
        }
      ]
    },
    {
      "cell_type": "code",
      "source": [
        "b.shape"
      ],
      "metadata": {
        "colab": {
          "base_uri": "https://localhost:8080/"
        },
        "id": "dll0P7CJbvN9",
        "outputId": "9b4ba22f-5c6c-462c-fb68-732b4253f03f"
      },
      "execution_count": null,
      "outputs": [
        {
          "output_type": "execute_result",
          "data": {
            "text/plain": [
              "(2, 4)"
            ]
          },
          "metadata": {},
          "execution_count": 15
        }
      ]
    },
    {
      "cell_type": "code",
      "source": [
        "c.shape"
      ],
      "metadata": {
        "colab": {
          "base_uri": "https://localhost:8080/"
        },
        "id": "Lhq6roM8bvz0",
        "outputId": "a092dfc8-739f-452b-d217-63531f8cd345"
      },
      "execution_count": null,
      "outputs": [
        {
          "output_type": "execute_result",
          "data": {
            "text/plain": [
              "(1, 6, 4)"
            ]
          },
          "metadata": {},
          "execution_count": 16
        }
      ]
    },
    {
      "cell_type": "code",
      "source": [
        "\n",
        "#latihan 2\n",
        "import numpy as np\n",
        "\n",
        "# membuat array 1 dimensi dengan 6 elemen\n",
        "arr1 = np.array([1, 2, 3, 4, 5, 6])\n",
        "\n",
        "# mengubah bentuk array menjadi matriks 2x3\n",
        "arr2 = arr1.reshape(2, 3)\n",
        "print(arr2)\n",
        "# Output: \n",
        "# [[1 2 3]\n",
        "#  [4 5 6]]"
      ],
      "metadata": {
        "colab": {
          "base_uri": "https://localhost:8080/"
        },
        "id": "2c7Yzt_5cwES",
        "outputId": "1542f535-a179-4099-9350-34188c10a414"
      },
      "execution_count": null,
      "outputs": [
        {
          "output_type": "stream",
          "name": "stdout",
          "text": [
            "[[1 2 3]\n",
            " [4 5 6]]\n"
          ]
        }
      ]
    },
    {
      "cell_type": "code",
      "source": [
        "\n",
        "#latihan 3\n",
        "import numpy as np\n",
        "\n",
        "# membuat dua array 1 dimensi\n",
        "arr1 = np.array([1, 2, 3])\n",
        "arr2 = np.array([4, 5, 6])\n",
        "\n",
        "# penjumlahan elemen dari kedua array\n",
        "arr3 = arr1 + arr2\n",
        "print(arr3)\n",
        "# Output: [5 7 9]\n",
        "\n",
        "# pengurangan elemen dari kedua array\n",
        "arr4 = arr2 - arr1\n",
        "print(arr4)\n",
        "# Output: [3 3 3]\n",
        "\n",
        "# perkalian"
      ],
      "metadata": {
        "colab": {
          "base_uri": "https://localhost:8080/"
        },
        "id": "qBl-899pcwfz",
        "outputId": "d94466be-da74-4930-b3a2-51bf95228f1f"
      },
      "execution_count": null,
      "outputs": [
        {
          "output_type": "stream",
          "name": "stdout",
          "text": [
            "[5 7 9]\n",
            "[3 3 3]\n"
          ]
        }
      ]
    },
    {
      "cell_type": "code",
      "source": [
        "# latihan 4\n",
        "import numpy as np\n",
        "\n",
        "# membuat array 2 dimensi (matriks)\n",
        "arr = np.array([[1, 2, 3], [4, 5, 6]])\n",
        "\n",
        "# mengetahui jumlah dimensi dari array\n",
        "print(arr.ndim)  # akan mencetak 2\n",
        "\n",
        "# mengetahui jumlah baris dan kolom dari array\n",
        "print(arr.shape)  # akan mencetak (2, 3)"
      ],
      "metadata": {
        "colab": {
          "base_uri": "https://localhost:8080/"
        },
        "id": "_Mi2Bmk4cw0Q",
        "outputId": "8814689b-4d22-44e1-95d3-d5ad394d043a"
      },
      "execution_count": null,
      "outputs": [
        {
          "output_type": "stream",
          "name": "stdout",
          "text": [
            "2\n",
            "(2, 3)\n"
          ]
        }
      ]
    },
    {
      "cell_type": "markdown",
      "source": [
        "# 5.20.2 Memanggil Anggota, Kolom dan Baris dengan Numpy\n",
        "\n",
        "Program memanggil anggota, kolom dan baris dalam list menggunakan Numpy"
      ],
      "metadata": {
        "id": "7GUXHrLrjGLF"
      }
    },
    {
      "cell_type": "code",
      "source": [
        "# membuat array\n",
        "d = np.array([[1,3,5,7],[2,4,6,8],[4,5,6,7]])\n",
        "print(d)"
      ],
      "metadata": {
        "id": "KgdLU49ojJo9"
      },
      "execution_count": null,
      "outputs": []
    },
    {
      "cell_type": "code",
      "source": [
        "d[0,3]"
      ],
      "metadata": {
        "colab": {
          "base_uri": "https://localhost:8080/"
        },
        "id": "AqlCUlz8jLPj",
        "outputId": "f7b3459d-3c75-4ccf-c163-fd5e00b81880"
      },
      "execution_count": null,
      "outputs": [
        {
          "output_type": "execute_result",
          "data": {
            "text/plain": [
              "7"
            ]
          },
          "metadata": {},
          "execution_count": 24
        }
      ]
    },
    {
      "cell_type": "code",
      "source": [
        "d[1,:]"
      ],
      "metadata": {
        "colab": {
          "base_uri": "https://localhost:8080/"
        },
        "id": "M71lO69QjLcw",
        "outputId": "205c130b-b9e5-4811-82fc-a785d4ba065d"
      },
      "execution_count": null,
      "outputs": [
        {
          "output_type": "execute_result",
          "data": {
            "text/plain": [
              "array([2, 4, 6, 8])"
            ]
          },
          "metadata": {},
          "execution_count": 25
        }
      ]
    },
    {
      "cell_type": "code",
      "source": [
        "d[:,3]"
      ],
      "metadata": {
        "colab": {
          "base_uri": "https://localhost:8080/"
        },
        "id": "bAKCCbuijMCz",
        "outputId": "abe1f102-a091-4428-c0e2-db59e6651bc9"
      },
      "execution_count": null,
      "outputs": [
        {
          "output_type": "execute_result",
          "data": {
            "text/plain": [
              "array([7, 8, 7])"
            ]
          },
          "metadata": {},
          "execution_count": 26
        }
      ]
    },
    {
      "cell_type": "code",
      "source": [
        "d[1,0:3]"
      ],
      "metadata": {
        "colab": {
          "base_uri": "https://localhost:8080/"
        },
        "id": "Uw5rTgUdjMPx",
        "outputId": "e84204e1-f4c8-4aea-c4ff-22af0d05b70b"
      },
      "execution_count": null,
      "outputs": [
        {
          "output_type": "execute_result",
          "data": {
            "text/plain": [
              "array([2, 4, 6])"
            ]
          },
          "metadata": {},
          "execution_count": 27
        }
      ]
    },
    {
      "cell_type": "code",
      "source": [
        "d[0,0:3:2]"
      ],
      "metadata": {
        "colab": {
          "base_uri": "https://localhost:8080/"
        },
        "id": "cUAYKAdRjJ9g",
        "outputId": "06058346-85ee-43dc-e254-f1dc7db09033"
      },
      "execution_count": null,
      "outputs": [
        {
          "output_type": "execute_result",
          "data": {
            "text/plain": [
              "array([1, 5])"
            ]
          },
          "metadata": {},
          "execution_count": 6
        }
      ]
    },
    {
      "cell_type": "code",
      "source": [
        "d[0,0] = 100\n",
        "print(d)"
      ],
      "metadata": {
        "colab": {
          "base_uri": "https://localhost:8080/"
        },
        "id": "cvemelc5jKNk",
        "outputId": "aca860be-6a6d-41cd-94ed-a704c07b3cb2"
      },
      "execution_count": null,
      "outputs": [
        {
          "output_type": "stream",
          "name": "stdout",
          "text": [
            "[[100   3   5   7]\n",
            " [  2   4   6   8]\n",
            " [  4   5   6   7]]\n"
          ]
        }
      ]
    },
    {
      "cell_type": "code",
      "source": [
        "# latihan 2\n",
        "import numpy as np\n",
        "\n",
        "# membuat sebuah array 2 dimensi dengan bentuk 3x3\n",
        "arr = np.array([[1, 2, 3],\n",
        "                [4, 5, 6],\n",
        "                [7, 8, 9]])\n",
        "\n",
        "# memanggil anggota array pada baris ke-1, kolom ke-2\n",
        "print(arr[1, 2])  # output: 6\n",
        "\n",
        "# memanggil kolom ke-0\n",
        "print(arr[:, 0])  # output: [1 4 7]\n",
        "\n",
        "# memanggil baris ke-2\n",
        "print(arr[2, :])  # output: [7 8 9]"
      ],
      "metadata": {
        "colab": {
          "base_uri": "https://localhost:8080/"
        },
        "id": "8nGpTVvCFfbG",
        "outputId": "aa5dea82-40a9-4046-e541-d1928f2cd770"
      },
      "execution_count": null,
      "outputs": [
        {
          "output_type": "stream",
          "name": "stdout",
          "text": [
            "6\n",
            "[1 4 7]\n",
            "[7 8 9]\n"
          ]
        }
      ]
    },
    {
      "cell_type": "markdown",
      "source": [
        "# 5.20.3 Matrix pada Numpy\n",
        "\n",
        "Numpy dapat digunakan untuk membuat berbagai jenis matrix"
      ],
      "metadata": {
        "id": "ioiKrSOnF7Qh"
      }
    },
    {
      "cell_type": "code",
      "source": [
        "# np.ones adalah sebuah fungsi dalam library NumPy pada Python yang digunakan untuk membuat sebuah array dengan isi elemen yang seluruhnya bernilai 1.\n",
        "np.ones((2,3))"
      ],
      "metadata": {
        "colab": {
          "base_uri": "https://localhost:8080/"
        },
        "id": "H0-EtgqyFfvN",
        "outputId": "0e9aaa32-e24b-4f45-e3c3-fcd64b87a4c7"
      },
      "execution_count": null,
      "outputs": [
        {
          "output_type": "execute_result",
          "data": {
            "text/plain": [
              "array([[1., 1., 1.],\n",
              "       [1., 1., 1.]])"
            ]
          },
          "metadata": {},
          "execution_count": 16
        }
      ]
    },
    {
      "cell_type": "code",
      "source": [
        "# np.zeros adalah sebuah fungsi dalam library NumPy pada Python yang digunakan untuk membuat sebuah array dengan isi elemen yang seluruhnya bernilai 0.\n",
        "np.zeros((3,2))"
      ],
      "metadata": {
        "colab": {
          "base_uri": "https://localhost:8080/"
        },
        "id": "LkPhwMpjFgDk",
        "outputId": "3775d028-3981-4b4f-881f-deef6d2b9d8c"
      },
      "execution_count": null,
      "outputs": [
        {
          "output_type": "execute_result",
          "data": {
            "text/plain": [
              "array([[0., 0.],\n",
              "       [0., 0.],\n",
              "       [0., 0.]])"
            ]
          },
          "metadata": {},
          "execution_count": 10
        }
      ]
    },
    {
      "cell_type": "code",
      "source": [
        "# np.identity adalah sebuah fungsi dalam library NumPy pada Python yang digunakan untuk membuat sebuah matriks identitas dengan ukuran tertentu.\n",
        "np.identity(4)"
      ],
      "metadata": {
        "colab": {
          "base_uri": "https://localhost:8080/"
        },
        "id": "YiRhvuIcGP1b",
        "outputId": "056815a3-c7d7-4317-d49a-6e18d496ed99"
      },
      "execution_count": null,
      "outputs": [
        {
          "output_type": "execute_result",
          "data": {
            "text/plain": [
              "array([[1., 0., 0., 0.],\n",
              "       [0., 1., 0., 0.],\n",
              "       [0., 0., 1., 0.],\n",
              "       [0., 0., 0., 1.]])"
            ]
          },
          "metadata": {},
          "execution_count": 11
        }
      ]
    },
    {
      "cell_type": "code",
      "source": [
        "np.ones((7,8,9))"
      ],
      "metadata": {
        "colab": {
          "base_uri": "https://localhost:8080/"
        },
        "id": "D3FO1IMoGQtM",
        "outputId": "fd70cf90-bc7e-4bc0-9e7f-65c4eadf89fd"
      },
      "execution_count": null,
      "outputs": [
        {
          "output_type": "execute_result",
          "data": {
            "text/plain": [
              "array([[[1., 1., 1., 1., 1., 1., 1., 1., 1.],\n",
              "        [1., 1., 1., 1., 1., 1., 1., 1., 1.],\n",
              "        [1., 1., 1., 1., 1., 1., 1., 1., 1.],\n",
              "        [1., 1., 1., 1., 1., 1., 1., 1., 1.],\n",
              "        [1., 1., 1., 1., 1., 1., 1., 1., 1.],\n",
              "        [1., 1., 1., 1., 1., 1., 1., 1., 1.],\n",
              "        [1., 1., 1., 1., 1., 1., 1., 1., 1.],\n",
              "        [1., 1., 1., 1., 1., 1., 1., 1., 1.]],\n",
              "\n",
              "       [[1., 1., 1., 1., 1., 1., 1., 1., 1.],\n",
              "        [1., 1., 1., 1., 1., 1., 1., 1., 1.],\n",
              "        [1., 1., 1., 1., 1., 1., 1., 1., 1.],\n",
              "        [1., 1., 1., 1., 1., 1., 1., 1., 1.],\n",
              "        [1., 1., 1., 1., 1., 1., 1., 1., 1.],\n",
              "        [1., 1., 1., 1., 1., 1., 1., 1., 1.],\n",
              "        [1., 1., 1., 1., 1., 1., 1., 1., 1.],\n",
              "        [1., 1., 1., 1., 1., 1., 1., 1., 1.]],\n",
              "\n",
              "       [[1., 1., 1., 1., 1., 1., 1., 1., 1.],\n",
              "        [1., 1., 1., 1., 1., 1., 1., 1., 1.],\n",
              "        [1., 1., 1., 1., 1., 1., 1., 1., 1.],\n",
              "        [1., 1., 1., 1., 1., 1., 1., 1., 1.],\n",
              "        [1., 1., 1., 1., 1., 1., 1., 1., 1.],\n",
              "        [1., 1., 1., 1., 1., 1., 1., 1., 1.],\n",
              "        [1., 1., 1., 1., 1., 1., 1., 1., 1.],\n",
              "        [1., 1., 1., 1., 1., 1., 1., 1., 1.]],\n",
              "\n",
              "       [[1., 1., 1., 1., 1., 1., 1., 1., 1.],\n",
              "        [1., 1., 1., 1., 1., 1., 1., 1., 1.],\n",
              "        [1., 1., 1., 1., 1., 1., 1., 1., 1.],\n",
              "        [1., 1., 1., 1., 1., 1., 1., 1., 1.],\n",
              "        [1., 1., 1., 1., 1., 1., 1., 1., 1.],\n",
              "        [1., 1., 1., 1., 1., 1., 1., 1., 1.],\n",
              "        [1., 1., 1., 1., 1., 1., 1., 1., 1.],\n",
              "        [1., 1., 1., 1., 1., 1., 1., 1., 1.]],\n",
              "\n",
              "       [[1., 1., 1., 1., 1., 1., 1., 1., 1.],\n",
              "        [1., 1., 1., 1., 1., 1., 1., 1., 1.],\n",
              "        [1., 1., 1., 1., 1., 1., 1., 1., 1.],\n",
              "        [1., 1., 1., 1., 1., 1., 1., 1., 1.],\n",
              "        [1., 1., 1., 1., 1., 1., 1., 1., 1.],\n",
              "        [1., 1., 1., 1., 1., 1., 1., 1., 1.],\n",
              "        [1., 1., 1., 1., 1., 1., 1., 1., 1.],\n",
              "        [1., 1., 1., 1., 1., 1., 1., 1., 1.]],\n",
              "\n",
              "       [[1., 1., 1., 1., 1., 1., 1., 1., 1.],\n",
              "        [1., 1., 1., 1., 1., 1., 1., 1., 1.],\n",
              "        [1., 1., 1., 1., 1., 1., 1., 1., 1.],\n",
              "        [1., 1., 1., 1., 1., 1., 1., 1., 1.],\n",
              "        [1., 1., 1., 1., 1., 1., 1., 1., 1.],\n",
              "        [1., 1., 1., 1., 1., 1., 1., 1., 1.],\n",
              "        [1., 1., 1., 1., 1., 1., 1., 1., 1.],\n",
              "        [1., 1., 1., 1., 1., 1., 1., 1., 1.]],\n",
              "\n",
              "       [[1., 1., 1., 1., 1., 1., 1., 1., 1.],\n",
              "        [1., 1., 1., 1., 1., 1., 1., 1., 1.],\n",
              "        [1., 1., 1., 1., 1., 1., 1., 1., 1.],\n",
              "        [1., 1., 1., 1., 1., 1., 1., 1., 1.],\n",
              "        [1., 1., 1., 1., 1., 1., 1., 1., 1.],\n",
              "        [1., 1., 1., 1., 1., 1., 1., 1., 1.],\n",
              "        [1., 1., 1., 1., 1., 1., 1., 1., 1.],\n",
              "        [1., 1., 1., 1., 1., 1., 1., 1., 1.]]])"
            ]
          },
          "metadata": {},
          "execution_count": 12
        }
      ]
    },
    {
      "cell_type": "code",
      "source": [
        "np.full((3,2),9)"
      ],
      "metadata": {
        "colab": {
          "base_uri": "https://localhost:8080/"
        },
        "id": "lno-1M3GGpnH",
        "outputId": "1028d9da-58a1-42b3-9619-3f9a0caa74a9"
      },
      "execution_count": null,
      "outputs": [
        {
          "output_type": "execute_result",
          "data": {
            "text/plain": [
              "array([[9, 9],\n",
              "       [9, 9],\n",
              "       [9, 9]])"
            ]
          },
          "metadata": {},
          "execution_count": 13
        }
      ]
    },
    {
      "cell_type": "code",
      "source": [
        "# np.random.rand adalah sebuah fungsi dalam library NumPy pada Python yang digunakan untuk menghasilkan array dengan nilai acak dalam rentang [0, 1) dengan distribusi seragam (uniform distribution).\n",
        "np.random.rand(4,3)"
      ],
      "metadata": {
        "colab": {
          "base_uri": "https://localhost:8080/"
        },
        "id": "KCqqv3sOGuTP",
        "outputId": "5d5b9c8d-60a8-4de2-b44c-d4c24a1e06e5"
      },
      "execution_count": null,
      "outputs": [
        {
          "output_type": "execute_result",
          "data": {
            "text/plain": [
              "array([[0.45052755, 0.29451953, 0.9252045 ],\n",
              "       [0.58321248, 0.86887887, 0.93427595],\n",
              "       [0.15115153, 0.50306455, 0.10771353],\n",
              "       [0.52211767, 0.07915096, 0.11862241]])"
            ]
          },
          "metadata": {},
          "execution_count": 14
        }
      ]
    },
    {
      "cell_type": "code",
      "source": [
        "\n",
        "# np.random.randint adalah sebuah fungsi dalam library NumPy pada Python yang digunakan untuk menghasilkan array dengan nilai integer acak dalam rentang tertentu.\n",
        "np.random.randint(1,10,size=(3,4))"
      ],
      "metadata": {
        "id": "ArOoQf3gG03X",
        "colab": {
          "base_uri": "https://localhost:8080/"
        },
        "outputId": "59dd4f53-9cd1-446e-d8d0-7dbbffa60af4"
      },
      "execution_count": null,
      "outputs": [
        {
          "output_type": "execute_result",
          "data": {
            "text/plain": [
              "array([[6, 9, 8, 7],\n",
              "       [2, 9, 2, 4],\n",
              "       [1, 7, 9, 2]])"
            ]
          },
          "metadata": {},
          "execution_count": 15
        }
      ]
    },
    {
      "cell_type": "code",
      "source": [
        " # Latihan 2\n",
        "import numpy as np\n",
        "\n",
        "# Membuat matrix 2x3\n",
        "A = np.array([[1, 2, 3], [4, 5, 6]])\n",
        "\n",
        "# Membuat matrix 3x2\n",
        "B = np.array([[7, 8], [9, 10], [11, 12]])\n",
        "\n",
        "# Mengalikan matrix A dan B\n",
        "C = np.dot(A, B)\n",
        "\n",
        "# Menampilkan matrix C\n",
        "print(C)"
      ],
      "metadata": {
        "colab": {
          "base_uri": "https://localhost:8080/"
        },
        "id": "PSKSfj8KKnBU",
        "outputId": "03653d99-0bba-4843-eede-01e8ff78a884"
      },
      "execution_count": null,
      "outputs": [
        {
          "output_type": "stream",
          "name": "stdout",
          "text": [
            "[[ 58  64]\n",
            " [139 154]]\n"
          ]
        }
      ]
    },
    {
      "cell_type": "code",
      "source": [
        "# latihan 3 \n",
        "import numpy as np\n",
        "\n",
        "# Membuat matrix 2x3\n",
        "A = np.array([[1, 2, 3], [4, 5, 6]])\n",
        "\n",
        "# Membuat matrix 3x2\n",
        "B = np.array([[7, 8], [9, 10], [11, 12]])\n",
        "\n",
        "# Mengalikan matrix A dan B\n",
        "C = np.dot(A, B)\n",
        "\n",
        "# Menampilkan matrix C\n",
        "print(C)"
      ],
      "metadata": {
        "colab": {
          "base_uri": "https://localhost:8080/"
        },
        "id": "4VGAWyUpLXBS",
        "outputId": "53f3eb62-6d40-4c88-f52f-3626b9fdc7cc"
      },
      "execution_count": null,
      "outputs": [
        {
          "output_type": "stream",
          "name": "stdout",
          "text": [
            "[[ 58  64]\n",
            " [139 154]]\n"
          ]
        }
      ]
    },
    {
      "cell_type": "code",
      "source": [
        "# latihan 4\n",
        "import numpy as np\n",
        "\n",
        "# Membuat matrix 13x13 dengan nilai acak dari 0 sampai 9\n",
        "matriks = np.random.randint(1, 9, size=(13, 13))\n",
        "\n",
        "# Menampilkan matrix\n",
        "print(matriks)"
      ],
      "metadata": {
        "colab": {
          "base_uri": "https://localhost:8080/"
        },
        "id": "y3QDAd9JKnP6",
        "outputId": "fc154b1b-b99d-40b1-f7ac-235e2ed27993"
      },
      "execution_count": null,
      "outputs": [
        {
          "output_type": "stream",
          "name": "stdout",
          "text": [
            "[[6 8 1 2 6 8 3 4 6 6 1 6 3]\n",
            " [5 7 5 1 4 3 6 1 2 2 2 7 7]\n",
            " [6 4 1 4 1 6 2 3 8 3 3 8 3]\n",
            " [6 3 3 5 4 3 4 5 6 8 4 1 7]\n",
            " [3 7 5 3 8 7 6 7 5 4 8 5 4]\n",
            " [4 4 3 8 7 5 6 3 4 2 6 6 2]\n",
            " [8 5 6 2 5 6 3 5 7 4 7 4 4]\n",
            " [2 2 7 5 5 4 8 1 8 5 3 8 5]\n",
            " [8 4 7 2 3 8 5 3 6 3 1 4 3]\n",
            " [2 3 7 6 3 4 4 7 1 2 3 7 7]\n",
            " [3 3 7 3 3 4 6 8 7 8 4 1 7]\n",
            " [1 1 7 2 6 8 2 8 1 3 8 7 5]\n",
            " [1 3 3 8 8 4 1 3 5 3 4 1 8]]\n"
          ]
        }
      ]
    },
    {
      "cell_type": "markdown",
      "source": [
        "# 5.20.4 Copy pada Numpy\n",
        "\n",
        "saat anggota variabel baru dirubah,\n",
        "dampaknya juga akan merubah variabel asal. Untuk menghindari perubahan\n",
        "variabel awal yang tidak dikehendaki maka diperlukan perintah copy"
      ],
      "metadata": {
        "id": "G2Opr4TMLxN5"
      }
    },
    {
      "cell_type": "code",
      "source": [
        "# membuat array\n",
        "a = np.array([1,2,3,4,5])\n",
        "# mencetak array\n",
        "print(a)"
      ],
      "metadata": {
        "colab": {
          "base_uri": "https://localhost:8080/"
        },
        "id": "5t2auOccKoCo",
        "outputId": "c0b54175-e5e3-454e-ed59-db0bb642e6fd"
      },
      "execution_count": null,
      "outputs": [
        {
          "output_type": "stream",
          "name": "stdout",
          "text": [
            "[1 2 3 4 5]\n"
          ]
        }
      ]
    },
    {
      "cell_type": "code",
      "source": [
        "\n",
        "# membuat array b dari array a\n",
        "b = a\n",
        "# mencetak array\n",
        "print(b)"
      ],
      "metadata": {
        "colab": {
          "base_uri": "https://localhost:8080/"
        },
        "id": "wjVmJMO-Kojp",
        "outputId": "9d2a6cfd-f703-454d-8080-d7b7ca54b482"
      },
      "execution_count": null,
      "outputs": [
        {
          "output_type": "stream",
          "name": "stdout",
          "text": [
            "[1 2 3 4 5]\n"
          ]
        }
      ]
    },
    {
      "cell_type": "code",
      "source": [
        "\n",
        "# mengubah nilai array \n",
        "b[0] = 10\n",
        "print(b)"
      ],
      "metadata": {
        "colab": {
          "base_uri": "https://localhost:8080/"
        },
        "id": "yPPYCfc4Ko-o",
        "outputId": "51a10188-45cb-4988-a3f9-e3c8a6fe7cb3"
      },
      "execution_count": null,
      "outputs": [
        {
          "output_type": "stream",
          "name": "stdout",
          "text": [
            "[10  2  3  4  5]\n"
          ]
        }
      ]
    },
    {
      "cell_type": "code",
      "source": [
        "print(a)"
      ],
      "metadata": {
        "colab": {
          "base_uri": "https://localhost:8080/"
        },
        "id": "_xnhPcaVMrLL",
        "outputId": "d2465513-30c8-4bb9-a5bd-c94ac6e4ec37"
      },
      "execution_count": null,
      "outputs": [
        {
          "output_type": "stream",
          "name": "stdout",
          "text": [
            "[10  2  3  4  5]\n"
          ]
        }
      ]
    },
    {
      "cell_type": "code",
      "source": [
        "c = np.array([1,2,3,4,5])\n",
        "print(c)"
      ],
      "metadata": {
        "colab": {
          "base_uri": "https://localhost:8080/"
        },
        "id": "C3HTJg68MrS9",
        "outputId": "eb66b0f3-fad8-4725-8926-b34a24ea3837"
      },
      "execution_count": null,
      "outputs": [
        {
          "output_type": "stream",
          "name": "stdout",
          "text": [
            "[1 2 3 4 5]\n"
          ]
        }
      ]
    },
    {
      "cell_type": "code",
      "source": [
        "\n",
        "# membuat array menggunakan .copy()\n",
        "d = c.copy()\n",
        "print(d)"
      ],
      "metadata": {
        "colab": {
          "base_uri": "https://localhost:8080/"
        },
        "id": "sBbLPBU5Mreq",
        "outputId": "ce62fa9d-e390-4c32-dac6-b16345c4f1ec"
      },
      "execution_count": null,
      "outputs": [
        {
          "output_type": "stream",
          "name": "stdout",
          "text": [
            "[1 2 3 4 5]\n"
          ]
        }
      ]
    },
    {
      "cell_type": "code",
      "source": [
        "d[0] = 10\n",
        "print(d)"
      ],
      "metadata": {
        "colab": {
          "base_uri": "https://localhost:8080/"
        },
        "id": "VCPmYKfsMr03",
        "outputId": "ff1e11bd-e11e-4880-dc65-5457daef2c2e"
      },
      "execution_count": null,
      "outputs": [
        {
          "output_type": "stream",
          "name": "stdout",
          "text": [
            "[10  2  3  4  5]\n"
          ]
        }
      ]
    },
    {
      "cell_type": "code",
      "source": [
        "print(c)"
      ],
      "metadata": {
        "colab": {
          "base_uri": "https://localhost:8080/"
        },
        "id": "zIA1tArMNNy1",
        "outputId": "7a92014d-9e91-412f-d56b-eeaf12911170"
      },
      "execution_count": null,
      "outputs": [
        {
          "output_type": "stream",
          "name": "stdout",
          "text": [
            "[1 2 3 4 5]\n"
          ]
        }
      ]
    },
    {
      "cell_type": "code",
      "source": [
        "# Latihan 2\n",
        "import numpy as np\n",
        "\n",
        "# Membuat array NumPy\n",
        "array1 = np.array([1, 2, 3, 4, 5])\n",
        "\n",
        "# Melakukan copy array\n",
        "array2 = array1.copy()\n",
        "\n",
        "# Menampilkan hasil copy\n",
        "print(\"Hasil copy array1: \", array2)"
      ],
      "metadata": {
        "colab": {
          "base_uri": "https://localhost:8080/"
        },
        "id": "X0xGJV70NSmQ",
        "outputId": "e28cf621-1327-43d8-a4cb-38153fb6fd4f"
      },
      "execution_count": null,
      "outputs": [
        {
          "output_type": "stream",
          "name": "stdout",
          "text": [
            "Hasil copy array1:  [1 2 3 4 5]\n"
          ]
        }
      ]
    },
    {
      "cell_type": "code",
      "source": [
        "# latihan 3\n",
        "import numpy as np\n",
        "\n",
        "# Membuat array NumPy\n",
        "array1 = np.array([[1, 2, 3], [4, 5, 6]])\n",
        "\n",
        "# Melakukan copy array\n",
        "array2 = np.copy(array1)\n",
        "\n",
        "# Menampilkan hasil copy\n",
        "print(\"Hasil copy array1: \")\n",
        "print(array2)"
      ],
      "metadata": {
        "colab": {
          "base_uri": "https://localhost:8080/"
        },
        "id": "5rMv-0aLNS9b",
        "outputId": "1f101ead-9cd7-416c-d1e4-e811f0206f90"
      },
      "execution_count": null,
      "outputs": [
        {
          "output_type": "stream",
          "name": "stdout",
          "text": [
            "Hasil copy array1: \n",
            "[[1 2 3]\n",
            " [4 5 6]]\n"
          ]
        }
      ]
    },
    {
      "cell_type": "markdown",
      "source": [
        "# 5.20.5 Operasi Matematika pada Numpy"
      ],
      "metadata": {
        "id": "EW5oWyynNumb"
      }
    },
    {
      "cell_type": "code",
      "source": [
        "\n",
        "# penjumlahan\n",
        "a+2"
      ],
      "metadata": {
        "colab": {
          "base_uri": "https://localhost:8080/"
        },
        "id": "_bG-hNDXNTep",
        "outputId": "8eb588a1-3eb1-498c-dd4d-e744771ee6a7"
      },
      "execution_count": null,
      "outputs": [
        {
          "output_type": "execute_result",
          "data": {
            "text/plain": [
              "array([3, 4, 5])"
            ]
          },
          "metadata": {},
          "execution_count": 34
        }
      ]
    },
    {
      "cell_type": "code",
      "source": [
        "\n",
        "# pengurangan\n",
        "a-2"
      ],
      "metadata": {
        "colab": {
          "base_uri": "https://localhost:8080/"
        },
        "id": "e9DNa6CYNT3v",
        "outputId": "aacc17fd-3231-4b09-f718-c7a1368e6537"
      },
      "execution_count": null,
      "outputs": [
        {
          "output_type": "execute_result",
          "data": {
            "text/plain": [
              "array([-1,  0,  1])"
            ]
          },
          "metadata": {},
          "execution_count": 49
        }
      ]
    },
    {
      "cell_type": "code",
      "source": [
        "\n",
        "# perkalian\n",
        "a*3"
      ],
      "metadata": {
        "colab": {
          "base_uri": "https://localhost:8080/"
        },
        "id": "DJK63F9GNUL5",
        "outputId": "f1e957c1-024a-464a-b7fc-f550316f0f61"
      },
      "execution_count": null,
      "outputs": [
        {
          "output_type": "execute_result",
          "data": {
            "text/plain": [
              "array([3, 6, 9])"
            ]
          },
          "metadata": {},
          "execution_count": 36
        }
      ]
    },
    {
      "cell_type": "code",
      "source": [
        "\n",
        "# pembagian\n",
        "a/2"
      ],
      "metadata": {
        "colab": {
          "base_uri": "https://localhost:8080/"
        },
        "id": "LquE7xDVNUb0",
        "outputId": "45fab9c9-63a7-4bba-a705-11484e2c5c2a"
      },
      "execution_count": null,
      "outputs": [
        {
          "output_type": "execute_result",
          "data": {
            "text/plain": [
              "array([0.5, 1. , 1.5])"
            ]
          },
          "metadata": {},
          "execution_count": 37
        }
      ]
    },
    {
      "cell_type": "code",
      "source": [
        "\n",
        "# perpangkatan\n",
        "a**2"
      ],
      "metadata": {
        "colab": {
          "base_uri": "https://localhost:8080/"
        },
        "id": "Z_r72DyGOaFD",
        "outputId": "b635fcb9-ebb6-4c74-f650-0fec36bdaa89"
      },
      "execution_count": null,
      "outputs": [
        {
          "output_type": "execute_result",
          "data": {
            "text/plain": [
              "array([1, 4, 9])"
            ]
          },
          "metadata": {},
          "execution_count": 50
        }
      ]
    },
    {
      "cell_type": "code",
      "source": [
        "b = np.array([6,7,8])\n",
        "print(b)"
      ],
      "metadata": {
        "colab": {
          "base_uri": "https://localhost:8080/"
        },
        "id": "6rstsH4pOaNy",
        "outputId": "9dbf9924-a82d-4df0-d841-5f8f43584ea2"
      },
      "execution_count": null,
      "outputs": [
        {
          "output_type": "stream",
          "name": "stdout",
          "text": [
            "[6 7 8]\n"
          ]
        }
      ]
    },
    {
      "cell_type": "code",
      "source": [
        "a+b"
      ],
      "metadata": {
        "colab": {
          "base_uri": "https://localhost:8080/"
        },
        "id": "_J4AmiVlOaUt",
        "outputId": "508de234-37ec-4531-8abc-ae5d21943cb7"
      },
      "execution_count": null,
      "outputs": [
        {
          "output_type": "execute_result",
          "data": {
            "text/plain": [
              "array([ 7,  9, 11])"
            ]
          },
          "metadata": {},
          "execution_count": 44
        }
      ]
    },
    {
      "cell_type": "code",
      "source": [
        "a-b"
      ],
      "metadata": {
        "colab": {
          "base_uri": "https://localhost:8080/"
        },
        "id": "kg2y1ogbOabF",
        "outputId": "688a0169-dfa6-477a-ba3f-71b79ab1ca85"
      },
      "execution_count": null,
      "outputs": [
        {
          "output_type": "execute_result",
          "data": {
            "text/plain": [
              "array([-5, -5, -5])"
            ]
          },
          "metadata": {},
          "execution_count": 45
        }
      ]
    },
    {
      "cell_type": "code",
      "source": [
        "a*b"
      ],
      "metadata": {
        "colab": {
          "base_uri": "https://localhost:8080/"
        },
        "id": "SSioC-tuOahU",
        "outputId": "80ff5cb0-cfd5-4f22-8f7b-351ba5ddab97"
      },
      "execution_count": null,
      "outputs": [
        {
          "output_type": "execute_result",
          "data": {
            "text/plain": [
              "array([ 6, 14, 24])"
            ]
          },
          "metadata": {},
          "execution_count": 46
        }
      ]
    },
    {
      "cell_type": "code",
      "source": [
        "a/b"
      ],
      "metadata": {
        "colab": {
          "base_uri": "https://localhost:8080/"
        },
        "id": "HaSvbozMOam4",
        "outputId": "7939c429-63de-4989-bb86-78101a18e135"
      },
      "execution_count": null,
      "outputs": [
        {
          "output_type": "execute_result",
          "data": {
            "text/plain": [
              "array([0.16666667, 0.28571429, 0.375     ])"
            ]
          },
          "metadata": {},
          "execution_count": 47
        }
      ]
    },
    {
      "cell_type": "code",
      "source": [
        "a**b"
      ],
      "metadata": {
        "colab": {
          "base_uri": "https://localhost:8080/"
        },
        "id": "UErb2DA2O-1n",
        "outputId": "1a09a2ab-ef95-4165-9ddc-3c9182ef6953"
      },
      "execution_count": null,
      "outputs": [
        {
          "output_type": "execute_result",
          "data": {
            "text/plain": [
              "array([   1,  128, 6561])"
            ]
          },
          "metadata": {},
          "execution_count": 51
        }
      ]
    },
    {
      "cell_type": "code",
      "source": [
        "\n",
        "# operasi trigonometri cosinus\n",
        "np.cos(a)"
      ],
      "metadata": {
        "colab": {
          "base_uri": "https://localhost:8080/"
        },
        "id": "xHCX76xoPZgU",
        "outputId": "bf2acf5a-b2ed-401e-d87b-bacc4463f664"
      },
      "execution_count": null,
      "outputs": [
        {
          "output_type": "execute_result",
          "data": {
            "text/plain": [
              "array([ 0.54030231, -0.41614684, -0.9899925 ])"
            ]
          },
          "metadata": {},
          "execution_count": 52
        }
      ]
    },
    {
      "cell_type": "code",
      "source": [
        "np.cos(b)"
      ],
      "metadata": {
        "colab": {
          "base_uri": "https://localhost:8080/"
        },
        "id": "d9MJb7YSPZqV",
        "outputId": "117a014d-3f13-4532-aebd-c1501a38d382"
      },
      "execution_count": null,
      "outputs": [
        {
          "output_type": "execute_result",
          "data": {
            "text/plain": [
              "array([ 0.96017029,  0.75390225, -0.14550003])"
            ]
          },
          "metadata": {},
          "execution_count": 53
        }
      ]
    },
    {
      "cell_type": "code",
      "source": [
        "\n",
        "# operasi trigonometri tangen\n",
        "np.tan(a)"
      ],
      "metadata": {
        "colab": {
          "base_uri": "https://localhost:8080/"
        },
        "id": "t2HypZqoPYAN",
        "outputId": "c2dfbed7-1f84-47e5-e726-069105153fe1"
      },
      "execution_count": null,
      "outputs": [
        {
          "output_type": "execute_result",
          "data": {
            "text/plain": [
              "array([ 1.55740772, -2.18503986, -0.14254654])"
            ]
          },
          "metadata": {},
          "execution_count": 54
        }
      ]
    },
    {
      "cell_type": "code",
      "source": [
        "np.tan(b)"
      ],
      "metadata": {
        "colab": {
          "base_uri": "https://localhost:8080/"
        },
        "id": "4l4V49k8PYJj",
        "outputId": "e0a21c2c-2efd-43b5-c8b6-86afe056c26d"
      },
      "execution_count": null,
      "outputs": [
        {
          "output_type": "execute_result",
          "data": {
            "text/plain": [
              "array([-0.29100619,  0.87144798, -6.79971146])"
            ]
          },
          "metadata": {},
          "execution_count": 55
        }
      ]
    },
    {
      "cell_type": "code",
      "source": [
        "\n",
        "# cosinus hiperbolik\n",
        "np.cosh(a)"
      ],
      "metadata": {
        "colab": {
          "base_uri": "https://localhost:8080/"
        },
        "id": "3CgpFTmVPYVR",
        "outputId": "35629fd0-39eb-49ca-bc25-b1af78de6966"
      },
      "execution_count": null,
      "outputs": [
        {
          "output_type": "execute_result",
          "data": {
            "text/plain": [
              "array([ 1.54308063,  3.76219569, 10.067662  ])"
            ]
          },
          "metadata": {},
          "execution_count": 56
        }
      ]
    },
    {
      "cell_type": "code",
      "source": [
        "np.cosh(b)"
      ],
      "metadata": {
        "colab": {
          "base_uri": "https://localhost:8080/"
        },
        "id": "ni681Jm8PVEl",
        "outputId": "6e00e8a9-9ed1-4693-a6fe-6442d8daefa4"
      },
      "execution_count": null,
      "outputs": [
        {
          "output_type": "execute_result",
          "data": {
            "text/plain": [
              "array([ 201.71563612,  548.31703516, 1490.47916125])"
            ]
          },
          "metadata": {},
          "execution_count": 57
        }
      ]
    },
    {
      "cell_type": "code",
      "source": [
        "\n",
        "# sinus hiperbolik\n",
        "np.sinh(a)"
      ],
      "metadata": {
        "colab": {
          "base_uri": "https://localhost:8080/"
        },
        "id": "O5PArPrzPVLY",
        "outputId": "40d5b17b-5e90-4468-f452-7cc95e596d36"
      },
      "execution_count": null,
      "outputs": [
        {
          "output_type": "execute_result",
          "data": {
            "text/plain": [
              "array([ 1.17520119,  3.62686041, 10.01787493])"
            ]
          },
          "metadata": {},
          "execution_count": 58
        }
      ]
    },
    {
      "cell_type": "code",
      "source": [
        "np.sinh(b)"
      ],
      "metadata": {
        "colab": {
          "base_uri": "https://localhost:8080/"
        },
        "id": "nMQl6CmQPVTi",
        "outputId": "c290d759-ecce-49ef-d131-eb99f2bb394f"
      },
      "execution_count": null,
      "outputs": [
        {
          "output_type": "execute_result",
          "data": {
            "text/plain": [
              "array([ 201.71315737,  548.31612327, 1490.47882579])"
            ]
          },
          "metadata": {},
          "execution_count": 59
        }
      ]
    },
    {
      "cell_type": "code",
      "source": [
        "\n",
        "# operasi trigonometri sinus\n",
        "np.sin(a)"
      ],
      "metadata": {
        "colab": {
          "base_uri": "https://localhost:8080/"
        },
        "id": "LSZDYnVUPycK",
        "outputId": "6267b005-e2b8-4505-8686-36b7955d5a1f"
      },
      "execution_count": null,
      "outputs": [
        {
          "output_type": "execute_result",
          "data": {
            "text/plain": [
              "array([0.84147098, 0.90929743, 0.14112001])"
            ]
          },
          "metadata": {},
          "execution_count": 60
        }
      ]
    },
    {
      "cell_type": "code",
      "source": [
        "np.sin(b)"
      ],
      "metadata": {
        "colab": {
          "base_uri": "https://localhost:8080/"
        },
        "id": "SUoAeH8wPyi5",
        "outputId": "f6cb8eb7-8872-42cf-ed35-529b10059b84"
      },
      "execution_count": null,
      "outputs": [
        {
          "output_type": "execute_result",
          "data": {
            "text/plain": [
              "array([-0.2794155 ,  0.6569866 ,  0.98935825])"
            ]
          },
          "metadata": {},
          "execution_count": 61
        }
      ]
    },
    {
      "cell_type": "code",
      "source": [
        "\n",
        "# tangen hiperbolik\n",
        "np.tanh(a)"
      ],
      "metadata": {
        "colab": {
          "base_uri": "https://localhost:8080/"
        },
        "id": "WAhZ1BDFPy79",
        "outputId": "b3f89f14-cda0-4f18-effe-b2ef3eac14e3"
      },
      "execution_count": null,
      "outputs": [
        {
          "output_type": "execute_result",
          "data": {
            "text/plain": [
              "array([0.76159416, 0.96402758, 0.99505475])"
            ]
          },
          "metadata": {},
          "execution_count": 64
        }
      ]
    },
    {
      "cell_type": "code",
      "source": [
        "\n",
        "np.tanh(b)"
      ],
      "metadata": {
        "colab": {
          "base_uri": "https://localhost:8080/"
        },
        "id": "gGQa9ZFlPzCT",
        "outputId": "c5b12d84-1695-45f1-a5a9-7c54ae0914e2"
      },
      "execution_count": null,
      "outputs": [
        {
          "output_type": "execute_result",
          "data": {
            "text/plain": [
              "array([0.99998771, 0.99999834, 0.99999977])"
            ]
          },
          "metadata": {},
          "execution_count": 65
        }
      ]
    },
    {
      "cell_type": "code",
      "source": [
        "\n",
        "# akar kuadrat\n",
        "np.sqrt(a)"
      ],
      "metadata": {
        "colab": {
          "base_uri": "https://localhost:8080/"
        },
        "id": "_qTYhnHpPzHp",
        "outputId": "55f8366d-3c58-44af-bcdd-f827c2a7a5b0"
      },
      "execution_count": null,
      "outputs": [
        {
          "output_type": "execute_result",
          "data": {
            "text/plain": [
              "array([1.        , 1.41421356, 1.73205081])"
            ]
          },
          "metadata": {},
          "execution_count": 67
        }
      ]
    },
    {
      "cell_type": "code",
      "source": [
        "np.sqrt(b)"
      ],
      "metadata": {
        "colab": {
          "base_uri": "https://localhost:8080/"
        },
        "id": "6bMzD-8sPzNP",
        "outputId": "de6277b6-4e94-483d-d4b1-410787d6d04e"
      },
      "execution_count": null,
      "outputs": [
        {
          "output_type": "execute_result",
          "data": {
            "text/plain": [
              "array([2.44948974, 2.64575131, 2.82842712])"
            ]
          },
          "metadata": {},
          "execution_count": 68
        }
      ]
    },
    {
      "cell_type": "code",
      "source": [
        "# latihan 2\n",
        "import numpy as np\n",
        "\n",
        "# Membuat array NumPy\n",
        "a = np.array([1, 2, 3])\n",
        "b = np.array([4, 5, 6])\n",
        "\n",
        "# Penjumlahan\n",
        "c = a + b\n",
        "print(\"Penjumlahan a dan b: \", c)\n",
        "\n",
        "# Pengurangan\n",
        "d = a - b\n",
        "print(\"Pengurangan a dan b: \", d)\n",
        "\n",
        "# Perkalian\n",
        "e = a * b\n",
        "print(\"Perkalian a dan b: \", e)\n",
        "\n",
        "# Pembagian\n",
        "f = a / b\n",
        "print(\"Pembagian a dan b: \", f)\n",
        "\n",
        "# Perpangkatan\n",
        "g = a ** 2\n",
        "print(\"Perpangkatan a: \", g)\n",
        "\n",
        "# Operasi trigonometri\n",
        "h = np.sin(a)\n",
        "print(\"Sinus dari a: \", h)"
      ],
      "metadata": {
        "colab": {
          "base_uri": "https://localhost:8080/"
        },
        "id": "EEJJ24M5NUwN",
        "outputId": "da2bf7c5-f203-4048-f9a7-68310e8d56f9"
      },
      "execution_count": null,
      "outputs": [
        {
          "output_type": "stream",
          "name": "stdout",
          "text": [
            "Penjumlahan a dan b:  [5 7 9]\n",
            "Pengurangan a dan b:  [-3 -3 -3]\n",
            "Perkalian a dan b:  [ 4 10 18]\n",
            "Pembagian a dan b:  [0.25 0.4  0.5 ]\n",
            "Perpangkatan a:  [1 4 9]\n",
            "Sinus dari a:  [0.84147098 0.90929743 0.14112001]\n"
          ]
        }
      ]
    },
    {
      "cell_type": "code",
      "source": [
        "# latihan 3\n",
        "import numpy as np\n",
        "\n",
        "a = np.array([1, 2, 3, 4, 5])\n",
        "b = np.array([6, 7, 8, 9, 10])\n",
        "\n",
        "# Penjumlahan dua array\n",
        "c = a + b\n",
        "print(c)\n",
        "\n",
        "# Pengurangan dua array\n",
        "d = b - a\n",
        "print(d)\n",
        "\n",
        "# Perkalian dua array\n",
        "e = a * b\n",
        "print(e)\n",
        "\n",
        "# Pembagian dua array\n",
        "f = b / a\n",
        "print(f)\n",
        "\n",
        "# Perpangkatan dua array\n",
        "g = a ** 2\n",
        "print(g)\n",
        "\n",
        "# Modulo dua array\n",
        "h = b % a\n",
        "print(h)"
      ],
      "metadata": {
        "colab": {
          "base_uri": "https://localhost:8080/"
        },
        "id": "9C_sqFqDRhde",
        "outputId": "7f004889-beb6-426c-fe97-7ebbc94485e8"
      },
      "execution_count": null,
      "outputs": [
        {
          "output_type": "stream",
          "name": "stdout",
          "text": [
            "[ 7  9 11 13 15]\n",
            "[5 5 5 5 5]\n",
            "[ 6 14 24 36 50]\n",
            "[6.         3.5        2.66666667 2.25       2.        ]\n",
            "[ 1  4  9 16 25]\n",
            "[0 1 2 1 0]\n"
          ]
        }
      ]
    },
    {
      "cell_type": "code",
      "source": [
        "# latihan 4 \n",
        "import numpy as np\n",
        "\n",
        "# Membuat array dengan nilai sudut dalam derajat\n",
        "sudut = np.array([0, 30, 45, 60, 90])\n",
        "\n",
        "# Mengonversi sudut dari derajat ke radian\n",
        "sudut_radian = np.radians(sudut)\n",
        "\n",
        "# Menghitung nilai sin, cos, dan tan dari sudut\n",
        "sin_sudut = np.sin(sudut_radian)\n",
        "cos_sudut = np.cos(sudut_radian)\n",
        "tan_sudut = np.tan(sudut_radian)\n",
        "\n",
        "# Menampilkan hasil\n",
        "print(\"Sudut dalam derajat: \", sudut)\n",
        "print(\"Sudut dalam radian: \", sudut_radian)\n",
        "print(\"Nilai sin: \", sin_sudut)\n",
        "print(\"Nilai cos: \", cos_sudut)\n",
        "print(\"Nilai tan: \", tan_sudut)\n",
        "\n",
        "# Menghitung nilai sinh, cosh, dan tanh dari sudut hiperbolik\n",
        "sinh_sudut = np.sinh(sudut_radian)\n",
        "cosh_sudut = np.cosh(sudut_radian)\n",
        "tanh_sudut = np.tanh(sudut_radian)\n",
        "\n",
        "# Menampilkan hasil\n",
        "print(\"Nilai sinh: \", sinh_sudut)\n",
        "print(\"Nilai cosh: \", cosh_sudut)\n",
        "print(\"Nilai tanh: \", tanh_sudut)"
      ],
      "metadata": {
        "colab": {
          "base_uri": "https://localhost:8080/"
        },
        "id": "e86Hh8PPR4sx",
        "outputId": "ab281080-d0cb-4fdd-a2db-92269390fe00"
      },
      "execution_count": null,
      "outputs": [
        {
          "output_type": "stream",
          "name": "stdout",
          "text": [
            "Sudut dalam derajat:  [ 0 30 45 60 90]\n",
            "Sudut dalam radian:  [0.         0.52359878 0.78539816 1.04719755 1.57079633]\n",
            "Nilai sin:  [0.         0.5        0.70710678 0.8660254  1.        ]\n",
            "Nilai cos:  [1.00000000e+00 8.66025404e-01 7.07106781e-01 5.00000000e-01\n",
            " 6.12323400e-17]\n",
            "Nilai tan:  [0.00000000e+00 5.77350269e-01 1.00000000e+00 1.73205081e+00\n",
            " 1.63312394e+16]\n",
            "Nilai sinh:  [0.         0.54785347 0.86867096 1.24936705 2.3012989 ]\n",
            "Nilai cosh:  [1.         1.14023832 1.32460909 1.60028686 2.50917848]\n",
            "Nilai tanh:  [0.         0.48047278 0.6557942  0.78071444 0.91715234]\n"
          ]
        }
      ]
    },
    {
      "cell_type": "markdown",
      "source": [
        "# 5.20.6 Perkalian Matrik pada Numpy"
      ],
      "metadata": {
        "id": "nLbqeD-eSF8q"
      }
    },
    {
      "cell_type": "code",
      "source": [
        "\n",
        "# membuat array\n",
        "a = np.array([[1,2,3,7], [6,7,8,9]])\n",
        "# mencetak array\n",
        "print(a)"
      ],
      "metadata": {
        "colab": {
          "base_uri": "https://localhost:8080/"
        },
        "id": "W2GoNpV9SFJM",
        "outputId": "6357229e-4a58-4c46-ac6a-7399e6c3161c"
      },
      "execution_count": null,
      "outputs": [
        {
          "output_type": "stream",
          "name": "stdout",
          "text": [
            "[[1 2 3 7]\n",
            " [6 7 8 9]]\n"
          ]
        }
      ]
    },
    {
      "cell_type": "code",
      "source": [
        "\n",
        "\n",
        "# membuat array\n",
        "b = np.array([[1,8,3,6], [9,8,3,10]])\n",
        "# mencetak array\n",
        "print(b)"
      ],
      "metadata": {
        "colab": {
          "base_uri": "https://localhost:8080/"
        },
        "id": "ZQ3WSuxhSuqT",
        "outputId": "7d03fc21-b63d-4d0b-a958-a43a5494df4a"
      },
      "execution_count": null,
      "outputs": [
        {
          "output_type": "stream",
          "name": "stdout",
          "text": [
            "[[ 1  8  3  6]\n",
            " [ 9  8  3 10]]\n"
          ]
        }
      ]
    },
    {
      "cell_type": "code",
      "source": [
        "c = a*b\n",
        "print(c)"
      ],
      "metadata": {
        "colab": {
          "base_uri": "https://localhost:8080/"
        },
        "id": "Wn4VK9NVSu0V",
        "outputId": "69d9b5e1-ac87-4537-9d1b-f80c06e6fedb"
      },
      "execution_count": null,
      "outputs": [
        {
          "output_type": "stream",
          "name": "stdout",
          "text": [
            "[[  1  64   9  36]\n",
            " [ 81  64   9 100]]\n"
          ]
        }
      ]
    },
    {
      "cell_type": "code",
      "source": [
        "# Fungsi ini digunakan untuk mengalikan dua atau lebih matriks dengan menggunakan operator @ atau np.matmul() pada NumPy.\n",
        "d = np.matmul(a,e)"
      ],
      "metadata": {
        "id": "D-Ea7vJMSu8z"
      },
      "execution_count": null,
      "outputs": []
    },
    {
      "cell_type": "code",
      "source": [
        "e = np.array([[1,2],[3,4],[5,6],[7,8]])\n",
        "print(e)"
      ],
      "metadata": {
        "colab": {
          "base_uri": "https://localhost:8080/"
        },
        "id": "9-Vxb-VyUdIW",
        "outputId": "95bd7e65-befa-4299-d2c7-04d83471aa1a"
      },
      "execution_count": null,
      "outputs": [
        {
          "output_type": "stream",
          "name": "stdout",
          "text": [
            "[[1 2]\n",
            " [3 4]\n",
            " [5 6]\n",
            " [7 8]]\n"
          ]
        }
      ]
    },
    {
      "cell_type": "code",
      "source": [
        "f = np.matmul(a,e)\n",
        "print(f)"
      ],
      "metadata": {
        "colab": {
          "base_uri": "https://localhost:8080/"
        },
        "id": "XlgiQ7a5UdRQ",
        "outputId": "b83a8f6a-6944-4b8c-8acc-31d43898f694"
      },
      "execution_count": null,
      "outputs": [
        {
          "output_type": "stream",
          "name": "stdout",
          "text": [
            "[[ 82 100]\n",
            " [118 148]]\n"
          ]
        }
      ]
    },
    {
      "cell_type": "code",
      "source": [
        "# Latihan\n",
        "import numpy as np\n",
        "\n",
        "# membuat matriks A dan B\n",
        "A = np.array([[1, 2], [3, 4]])\n",
        "B = np.array([[5, 6], [7, 8]])\n",
        "\n",
        "# perkalian matriks dengan .matmul\n",
        "C = A @ B  # atau C = np.matmul(A, B)\n",
        "\n",
        "print(C)"
      ],
      "metadata": {
        "colab": {
          "base_uri": "https://localhost:8080/"
        },
        "id": "JaEXvWxVUdjt",
        "outputId": "4206ef2b-2dba-4daa-bf38-24d1aac2568e"
      },
      "execution_count": null,
      "outputs": [
        {
          "output_type": "stream",
          "name": "stdout",
          "text": [
            "[[19 22]\n",
            " [43 50]]\n"
          ]
        }
      ]
    },
    {
      "cell_type": "code",
      "source": [
        "# Latihan\n",
        "import numpy as np\n",
        "\n",
        "# membuat array\n",
        "a = np.array([[1,2,3,7], [6,7,8,9]])\n",
        "# mencetak array\n",
        "print(a)\n",
        "\n",
        "# membuat array\n",
        "b = np.array([[1,8], [3,6], [9,8], [3,10]])\n",
        "# mencetak array\n",
        "print(b)\n",
        "\n",
        "# melakukan operasi perkalian matriks\n",
        "c = np.matmul(a, b)\n",
        "# mencetak hasil perkalian matriks\n",
        "print(c)"
      ],
      "metadata": {
        "colab": {
          "base_uri": "https://localhost:8080/"
        },
        "id": "pq1J45L2UdrZ",
        "outputId": "8b1c574d-9430-437a-a56d-a600ca7e872a"
      },
      "execution_count": null,
      "outputs": [
        {
          "output_type": "stream",
          "name": "stdout",
          "text": [
            "[[1 2 3 7]\n",
            " [6 7 8 9]]\n",
            "[[ 1  8]\n",
            " [ 3  6]\n",
            " [ 9  8]\n",
            " [ 3 10]]\n",
            "[[ 55 114]\n",
            " [126 244]]\n"
          ]
        }
      ]
    },
    {
      "cell_type": "markdown",
      "source": [
        "# 5.20.7 min, max dan sum pada Numpy\n",
        "\n",
        "Perintah min, max dan sum cukup sering digunakan untuk mengetahui nilai\n",
        "minimum, maksimum dan penjumlahan."
      ],
      "metadata": {
        "id": "64ttvAk6X7qy"
      }
    },
    {
      "cell_type": "code",
      "source": [
        "\n",
        "import numpy as np\n",
        "\n",
        "a = np.array([[4, 5, 6],\n",
        "              [1, 2, 3],\n",
        "              [7, 8, 9]])"
      ],
      "metadata": {
        "colab": {
          "base_uri": "https://localhost:8080/"
        },
        "id": "FSHqM5BPUdxC",
        "outputId": "0d829aed-55d4-4251-fcce-4763ca340df4"
      },
      "execution_count": null,
      "outputs": [
        {
          "output_type": "stream",
          "name": "stdout",
          "text": [
            "[1 2 3]\n"
          ]
        }
      ]
    },
    {
      "cell_type": "code",
      "source": [
        "\n",
        "# \".min\" adalah sebuah metode yang digunakan untuk mencari nilai minimum dari array NumPy atau salah satu sumbu array.\n",
        "b = np.min(a)\n",
        "print(b)"
      ],
      "metadata": {
        "colab": {
          "base_uri": "https://localhost:8080/"
        },
        "id": "KAWhIyF1Ud25",
        "outputId": "7144e4ee-495d-433c-9a55-2afb41d739db"
      },
      "execution_count": null,
      "outputs": [
        {
          "output_type": "stream",
          "name": "stdout",
          "text": [
            "1\n"
          ]
        }
      ]
    },
    {
      "cell_type": "code",
      "source": [
        "\n",
        "# parameter \"axis\" pada metode \".min\" digunakan untuk menentukan sumbu (axis) pada array NumPy multidimensi, di mana nilai minimum akan dicari.\n",
        "c = np.min(a, axis=0)\n",
        "print(c)"
      ],
      "metadata": {
        "colab": {
          "base_uri": "https://localhost:8080/"
        },
        "id": "EaCvcM6aY-U6",
        "outputId": "61ddc704-8f82-4726-bbb3-1334e1e4d365"
      },
      "execution_count": null,
      "outputs": [
        {
          "output_type": "stream",
          "name": "stdout",
          "text": [
            "[1 2 3]\n"
          ]
        }
      ]
    },
    {
      "cell_type": "code",
      "source": [
        "d = np.min(a, axis=1)\n",
        "print(d)"
      ],
      "metadata": {
        "colab": {
          "base_uri": "https://localhost:8080/"
        },
        "id": "hlNjM-f8Y-d4",
        "outputId": "97ee7605-e46a-4e47-c7dd-548a751de895"
      },
      "execution_count": null,
      "outputs": [
        {
          "output_type": "stream",
          "name": "stdout",
          "text": [
            "[4 1 7]\n"
          ]
        }
      ]
    },
    {
      "cell_type": "code",
      "source": [
        "# \".max\" adalah sebuah metode yang digunakan untuk mencari nilai maksimum dari array NumPy atau salah satu sumbu array.\n",
        "e = np.max(a)\n",
        "print(e)"
      ],
      "metadata": {
        "colab": {
          "base_uri": "https://localhost:8080/"
        },
        "id": "HasM4fekY-nI",
        "outputId": "7c048991-a45a-4070-e0e6-2447e6b52673"
      },
      "execution_count": null,
      "outputs": [
        {
          "output_type": "stream",
          "name": "stdout",
          "text": [
            "9\n"
          ]
        }
      ]
    },
    {
      "cell_type": "code",
      "source": [
        "\n",
        "# parameter \"axis\" pada metode \".max\" digunakan untuk menentukan sumbu (axis) pada array NumPy multidimensi, di mana nilai maksimum akan dicari.\n",
        "f = np.max(a, axis=0)\n",
        "print(f)"
      ],
      "metadata": {
        "colab": {
          "base_uri": "https://localhost:8080/"
        },
        "id": "JarlUFJfaO4-",
        "outputId": "40a1eb2a-e1c8-4eeb-fb26-18cc9affd5ec"
      },
      "execution_count": null,
      "outputs": [
        {
          "output_type": "stream",
          "name": "stdout",
          "text": [
            "[7 8 9]\n"
          ]
        }
      ]
    },
    {
      "cell_type": "code",
      "source": [
        "g = np.max(a, axis=1)\n",
        "print(g)"
      ],
      "metadata": {
        "colab": {
          "base_uri": "https://localhost:8080/"
        },
        "id": "9kbBORavaOkE",
        "outputId": "072e0e1e-b6f3-460f-b59b-12a04adb184e"
      },
      "execution_count": null,
      "outputs": [
        {
          "output_type": "stream",
          "name": "stdout",
          "text": [
            "[6 3 9]\n"
          ]
        }
      ]
    },
    {
      "cell_type": "code",
      "source": [
        "# \"np.sum\" adalah sebuah fungsi yang digunakan untuk menjumlahkan seluruh elemen pada array NumPy atau menjumlahkan elemen pada salah satu sumbu (axis) dari array NumPy.\n",
        "h = np.sum(a)\n",
        "print(h)"
      ],
      "metadata": {
        "colab": {
          "base_uri": "https://localhost:8080/"
        },
        "id": "Hxdg2avcaOud",
        "outputId": "33f14ebd-07bd-41df-9117-54f98ba812eb"
      },
      "execution_count": null,
      "outputs": [
        {
          "output_type": "stream",
          "name": "stdout",
          "text": [
            "45\n"
          ]
        }
      ]
    },
    {
      "cell_type": "code",
      "source": [
        "\n",
        "# \"np.sum\" adalah sebuah fungsi yang digunakan untuk menjumlahkan seluruh elemen pada array NumPy atau menjumlahkan elemen pada salah satu sumbu (axis) dari array NumPy.\n",
        "i = np.sum(a, axis=0)\n",
        "print(i)"
      ],
      "metadata": {
        "colab": {
          "base_uri": "https://localhost:8080/"
        },
        "id": "xDRZzSsRa00b",
        "outputId": "248a8e5b-4893-4179-c7d1-a300652c4d59"
      },
      "execution_count": null,
      "outputs": [
        {
          "output_type": "stream",
          "name": "stdout",
          "text": [
            "[12 15 18]\n"
          ]
        }
      ]
    },
    {
      "cell_type": "code",
      "source": [
        "j = np.sum(a, axis=1)\n",
        "print(j)"
      ],
      "metadata": {
        "colab": {
          "base_uri": "https://localhost:8080/"
        },
        "id": "NYb1u10da09V",
        "outputId": "ab4064f6-2b46-4aca-b207-46c693ecdfa0"
      },
      "execution_count": null,
      "outputs": [
        {
          "output_type": "stream",
          "name": "stdout",
          "text": [
            "[15  6 24]\n"
          ]
        }
      ]
    },
    {
      "cell_type": "code",
      "source": [
        "# Latihan\n",
        "import numpy as np\n",
        "\n",
        "# membuat array\n",
        "arr = np.array([1, 3, 5, 7, 9])\n",
        "\n",
        "# mencari nilai maksimum dari array\n",
        "max_value = arr.max()\n",
        "\n",
        "print(max_value) # output: 9"
      ],
      "metadata": {
        "colab": {
          "base_uri": "https://localhost:8080/"
        },
        "id": "A34V-jZga1E0",
        "outputId": "0d5c3c18-0745-46f4-fc4e-9c9d6abeaa05"
      },
      "execution_count": null,
      "outputs": [
        {
          "output_type": "stream",
          "name": "stdout",
          "text": [
            "9\n"
          ]
        }
      ]
    },
    {
      "cell_type": "code",
      "source": [
        "# Latihan\n",
        "\n",
        "import numpy as np\n",
        "\n",
        "# membuat array 2D\n",
        "arr = np.array([[1, 2, 3], [4, 5, 6], [7, 8, 9]])\n",
        "\n",
        "# mencari nilai maksimum dalam sumbu baris (axis=0)\n",
        "max_value_axis0 = arr.max(axis=0)\n",
        "\n",
        "print(max_value_axis0) # output: [7 8 9]\n",
        "\n",
        "# mencari nilai maksimum dalam sumbu kolom (axis=1)\n",
        "max_value_axis1 = arr.max(axis=1)\n",
        "\n",
        "print(max_value_axis1) # output: [3 6 9]"
      ],
      "metadata": {
        "colab": {
          "base_uri": "https://localhost:8080/"
        },
        "id": "pBVYoRpka1KG",
        "outputId": "f84fbc3d-23dd-4e6e-9393-3656078aabc2"
      },
      "execution_count": null,
      "outputs": [
        {
          "output_type": "stream",
          "name": "stdout",
          "text": [
            "[7 8 9]\n",
            "[3 6 9]\n"
          ]
        }
      ]
    },
    {
      "cell_type": "code",
      "source": [
        "# Latihan\n",
        "import numpy as np\n",
        "\n",
        "# membuat array 2D\n",
        "arr = np.array([[1, 2, 3], [4, 5, 6], [7, 8, 9]])\n",
        "\n",
        "# mencari nilai minimum dalam sumbu baris (axis=0)\n",
        "min_value_axis0 = arr.min(axis=0)\n",
        "\n",
        "print(min_value_axis0) # output: [1 2 3]\n",
        "\n",
        "# mencari nilai minimum dalam sumbu kolom (axis=1)\n",
        "min_value_axis1 = arr.min(axis=1)\n",
        "\n",
        "print(min_value_axis1) # output: [1 4 7]"
      ],
      "metadata": {
        "colab": {
          "base_uri": "https://localhost:8080/"
        },
        "id": "FUuKHeNpc5ow",
        "outputId": "97a9d15d-ec36-42f8-8e06-2661519a0fc2"
      },
      "execution_count": null,
      "outputs": [
        {
          "output_type": "stream",
          "name": "stdout",
          "text": [
            "[1 2 3]\n",
            "[1 4 7]\n"
          ]
        }
      ]
    },
    {
      "cell_type": "code",
      "source": [
        "# Latihan\n",
        "import numpy as np\n",
        "\n",
        "# membuat array\n",
        "arr = np.array([1, 2, 3, 4, 5])\n",
        "\n",
        "# menjumlahkan seluruh elemen pada array\n",
        "sum_all = np.sum(arr)\n",
        "\n",
        "print(sum_all) # output: 15\n",
        "\n",
        "# membuat array 2D\n",
        "arr_2d = np.array([[1, 2, 3], [4, 5, 6], [7, 8, 9]])\n",
        "\n",
        "# menjumlahkan elemen pada sumbu baris (axis=0)\n",
        "sum_axis0 = np.sum(arr_2d, axis=0)\n",
        "\n",
        "print(sum_axis0) # output: [12 15 18]\n",
        "\n",
        "# menjumlahkan elemen pada sumbu kolom (axis=1)\n",
        "sum_axis1 = np.sum(arr_2d, axis=1)\n",
        "\n",
        "print(sum_axis1) # output: [ 6 15 24]"
      ],
      "metadata": {
        "colab": {
          "base_uri": "https://localhost:8080/"
        },
        "id": "Nbr24sI-c5xc",
        "outputId": "a33365a0-b2d1-4f87-a145-7504f05d0611"
      },
      "execution_count": null,
      "outputs": [
        {
          "output_type": "stream",
          "name": "stdout",
          "text": [
            "15\n",
            "[12 15 18]\n",
            "[ 6 15 24]\n"
          ]
        }
      ]
    }
  ]
}