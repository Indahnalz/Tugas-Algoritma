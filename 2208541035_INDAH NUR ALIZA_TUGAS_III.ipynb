{
 "cells": [
  {
   "cell_type": "markdown",
   "id": "c421fe8b",
   "metadata": {},
   "source": [
    "# 5.5 Strings Index"
   ]
  },
  {
   "cell_type": "code",
   "execution_count": 33,
   "id": "5295ffb3",
   "metadata": {},
   "outputs": [
    {
     "name": "stdout",
     "output_type": "stream",
     "text": [
      "ini mata\n",
      "ini mata kuliah algorit\n",
      "\n",
      "ini mata kuliah algoritma\n",
      "iug\n"
     ]
    }
   ],
   "source": [
    "# definisi : variabel berupa string dapat diurutkan dengan index yang dimulai dengan 0.\n",
    "# urutan terakhir didefinisikan sebagai urutan ke -1, dst.\n",
    "# menampilkan bagian dari data berupa string dengan menggunakan indexnya.\n",
    "# contoh penggunaan:\n",
    "\n",
    "kelas = 'ini mata kuliah algoritma'\n",
    "print(kelas[0:8])\n",
    "#dari perintah ini akan menghasilkan 'ini mata', kenapa? \n",
    "# karena spasi juga dianggap sebuah index jadinya spasi juga dihitung\n",
    "\n",
    "#contoh :\n",
    "\n",
    "print(kelas[0:-2])\n",
    "#perintah ini akan menghasilkan \"ini mata kuliah algorit\" karena ada -2 yang mana dibaca dari urutan kedua terakhir  \n",
    "\n",
    "print(kelas[-1:-8])\n",
    "#perintah ini tidak akan mengeluarkan hasil\n",
    "\n",
    "print(kelas[:])\n",
    "#ini akan menhasilkan semua index karena tidak ada permintaan untuk menampilkan index tertentu\n",
    "\n",
    "print (kelas[2:-4:8])"
   ]
  },
  {
   "cell_type": "code",
   "execution_count": null,
   "id": "cdb4b138",
   "metadata": {},
   "outputs": [],
   "source": []
  },
  {
   "cell_type": "markdown",
   "id": "e88dc8e5",
   "metadata": {},
   "source": [
    "# 5.6 Strings Methods"
   ]
  },
  {
   "cell_type": "code",
   "execution_count": 34,
   "id": "a19d9592",
   "metadata": {},
   "outputs": [],
   "source": [
    "#fungsi strings methods adalah untuk memanipulasi string, mengubah format, menghapus atau menambahkan karakter, mengubah huruf kapitalisasi, memeriksa apakah string mengandung suatu karakter atau substring, dll."
   ]
  },
  {
   "cell_type": "code",
   "execution_count": 35,
   "id": "2a386a2e",
   "metadata": {},
   "outputs": [
    {
     "name": "stdout",
     "output_type": "stream",
     "text": [
      "27\n",
      "True\n",
      "False\n"
     ]
    }
   ],
   "source": [
    "#contoh :\n",
    "judul = 'algoritma dan Struktur Data'\n",
    "\n",
    "print(len(judul))\n",
    "#perintah ini berfungsi untuk menampilkan berapa banyak index yang terdapat di dalam judul\n",
    "\n",
    "judul.upper()\n",
    "#perintah ini berfungsi untuk membuat judul menggunakan huruf kapital\n",
    "\n",
    "judul.lower()\n",
    "#sedangkan perintah ini adalah kebalikan dari upper, yaitu berfungsi untuk membuat judul menggunakan huruf kecil\n",
    "\n",
    "judul.find('struktur')\n",
    "#metode find digunakan untuk mencari indeks pertama kemunculan substring tertentu dalam string\n",
    "#Pada pencarian pertama, find() mengembalikan indeks 14, yang merupakan indeks pertama kemunculan substring \"struktur\" dalam string. \n",
    "judul.find('aljabar')\n",
    "#Sedangkan pada pencarian kedua, karena substring \"aljabar\" tidak ditemukan dalam string, maka find() mengembalikan -1.\n",
    "\n",
    "judul.replace('algoritma', 'alur')\n",
    "#metode ini digunakan untuk mengubah suatu kata yang terdapat pada judul\n",
    "\n",
    "judul.replace('alur', 'algoritma')\n",
    "\n",
    "print('algoritma' in judul)\n",
    "#perintah ini akan menampilkan true jika kita memasukkan huruf dan kata yang sesuai di judul, namun jika kita memasukkan kata yang tidak ada / tidak sesuai dijudul maka, perintah ini akan menghasilkan false\n",
    "#contoh\n",
    "print('Algoritma' in judul)\n",
    "#ini menghasilkan false karena terdapat huruf kapital di awal kata algoritma, yang mana tidak sesuai dengan judul yang ditulis dengan huruf kecil\n"
   ]
  },
  {
   "cell_type": "markdown",
   "id": "c67540ba",
   "metadata": {},
   "source": [
    "# 5.7 Operasi Matematika di Python"
   ]
  },
  {
   "cell_type": "code",
   "execution_count": 1,
   "id": "57c1727f",
   "metadata": {},
   "outputs": [
    {
     "name": "stdout",
     "output_type": "stream",
     "text": [
      "24\n",
      "8\n",
      "128\n",
      "2.0\n",
      "0\n",
      "2\n",
      "4294967296\n"
     ]
    }
   ],
   "source": [
    "a = 16\n",
    "b = 8\n",
    "\n",
    "# Penjumlahan\n",
    "c = a + b\n",
    "print(c)  # Output: 24\n",
    "\n",
    "# Pengurangan\n",
    "d = a - b\n",
    "print(d)  # Output: 8\n",
    "\n",
    "# Perkalian\n",
    "e = a * b\n",
    "print(e)  # Output: 128\n",
    "\n",
    "# Pembagian\n",
    "f = a / b\n",
    "print(f)  # Output: 2.0\n",
    "\n",
    "# Sisa bagi\n",
    "g = a % b\n",
    "print(g)  # Output: 0\n",
    "\n",
    "# Pembagian bulat\n",
    "h = a // b\n",
    "print(h)  # Output: 2\n",
    "\n",
    "# Pangkat\n",
    "i = a ** b\n",
    "print(i)  # Output: 4294967296\n",
    "\n"
   ]
  },
  {
   "cell_type": "code",
   "execution_count": null,
   "id": "b43a5f6f",
   "metadata": {},
   "outputs": [],
   "source": [
    "#Augmented operator\n",
    "# Penjumlahan augmented\n",
    "a = 5\n",
    "a += 3   # sama dengan a = a + 3\n",
    "print(a)   # Output: 8\n",
    "\n",
    "# Pengurangan augmented\n",
    "b = 7\n",
    "b -= 2   # sama dengan b = b - 2\n",
    "print(b)   # Output: 5\n",
    "\n",
    "# Perkalian augmented\n",
    "c = 3\n",
    "c *= 4   # sama dengan c = c * 4\n",
    "print(c)   # Output: 12\n",
    "\n",
    "# Pembagian augmented\n",
    "d = 10\n",
    "d /= 2   # sama dengan d = d / 2\n",
    "print(d)   # Output: 5.0\n",
    "\n",
    "# Sisa bagi augmented\n",
    "e = 9\n",
    "e %= 2   # sama dengan e = e % 2\n",
    "print(e)   # Output: 1\n",
    "\n",
    "# Pembagian bulat augmented\n",
    "f = 8\n",
    "f //= 3  # sama dengan f = f // 3\n",
    "print(f)  # Output: 2\n",
    "\n",
    "# Pangkat augmented\n",
    "g = 2\n",
    "g **= 3  # sama dengan g = g ** 3\n",
    "print(g)  # Output: 8"
   ]
  },
  {
   "cell_type": "markdown",
   "id": "eecf0b6c",
   "metadata": {},
   "source": [
    "# 5.8 Operator Perbandingan di Python"
   ]
  },
  {
   "cell_type": "code",
   "execution_count": null,
   "id": "7e2a018d",
   "metadata": {},
   "outputs": [],
   "source": [
    "#Lebih kecil (<): digunakan untuk membandingkan apakah suatu nilai lebih kecil dari nilai yang lain. contohnya:\n",
    "3 < 8\n",
    "# Output: True\n",
    "\n",
    "8 < 3\n",
    "# Output: False\n",
    "\n",
    "#Lebih besar (>): digunakan untuk membandingkan apakah suatu nilai lebih besar dari nilai yang lain. contohnya:\n",
    "13 > 18\n",
    "# Output: False\n",
    "\n",
    "18 > 13\n",
    "# Output: True\n",
    "\n",
    "#Lebih kecil sama dengan (<=): digunakan untuk membandingkan apakah suatu nilai lebih kecil atau sama dengan nilai yang lain. contohnya:\n",
    "11 <= 22\n",
    "# Output: True\n",
    "\n",
    "22 <= 22\n",
    "# Output: True\n",
    "\n",
    "33 <= 22\n",
    "# Output: False\n",
    "\n",
    "#Lebih besar sama dengan (>=): digunakan untuk membandingkan apakah suatu nilai lebih besar atau sama dengan nilai yang lain. contohnya:\n",
    "11 >= 22\n",
    "# Output: False\n",
    "\n",
    "33 >= 33\n",
    "# Output: True\n",
    "\n",
    "33 >= 22\n",
    "# Output: True\n",
    "\n",
    "#Sama dengan (==): digunakan untuk membandingkan apakah suatu nilai sama dengan nilai yang lain. contohnya:\n",
    "11 == 22\n",
    "# Output: False\n",
    "\n",
    "11 == 11\n",
    "# Output: True\n",
    "\n",
    "#Tidak sama dengan (!=): digunakan untuk membandingkan apakah suatu nilai tidak sama dengan nilai yang lain. contohnya:\n",
    "11 != 22\n",
    "# Output: True\n",
    "\n",
    "22 != 22\n",
    "# Output: False\n"
   ]
  },
  {
   "cell_type": "code",
   "execution_count": null,
   "id": "c3fd1ff0",
   "metadata": {},
   "outputs": [],
   "source": []
  },
  {
   "cell_type": "markdown",
   "id": "bc5e2774",
   "metadata": {},
   "source": [
    "# 5.9 Operator Logika di Python\n"
   ]
  },
  {
   "cell_type": "code",
   "execution_count": null,
   "id": "78838eda",
   "metadata": {},
   "outputs": [],
   "source": [
    "#Operator AND (and): digunakan untuk menguji apakah dua kondisi bersamaan benar. \n",
    "#Jika kedua kondisi benar, maka outputnya akan benar. \n",
    "#Namun, jika salah satu kondisinya salah, maka outputnya akan salah. \n",
    "#contohnya:\n",
    "x = 3\n",
    "y = 6\n",
    "z = 8\n",
    "\n",
    "print(x < y and y < z)\n",
    "# Output: True\n",
    "\n",
    "print(x > y and y < z)\n",
    "# Output: False\n",
    "\n",
    "#Operator OR (or): digunakan untuk menguji apakah setidaknya satu kondisi benar. \n",
    "#Jika setidaknya satu kondisi benar, maka outputnya akan benar. \n",
    "# Namun, jika kedua kondisi salah, maka outputnya akan salah. \n",
    "#contohnya:\n",
    "x = 3\n",
    "y = 6\n",
    "z = 8\n",
    "\n",
    "print(x > y or y < z)\n",
    "# Output: True\n",
    "\n",
    "print(x > y or y > z)\n",
    "# Output: False\n",
    "\n",
    "#Operator NOT (not): digunakan untuk membalik nilai kebenaran suatu kondisi. \n",
    "#Jika kondisi benar, maka ouputnya akan salah, dan sebaliknya. \n",
    "#contohnya:\n",
    "x = 3\n",
    "y = 6\n",
    "\n",
    "print(not x > y)\n",
    "# Output: True\n",
    "\n",
    "print(not x < y)\n",
    "# Output: False\n",
    "\n"
   ]
  },
  {
   "cell_type": "code",
   "execution_count": null,
   "id": "55a1858b",
   "metadata": {},
   "outputs": [],
   "source": []
  },
  {
   "cell_type": "markdown",
   "id": "c55e01d6",
   "metadata": {},
   "source": [
    "# 5.10 Operator if di Python"
   ]
  },
  {
   "cell_type": "code",
   "execution_count": null,
   "id": "6812c1f3",
   "metadata": {},
   "outputs": [],
   "source": [
    "#operator if akan dijalankan apabila nilai variabelnya adalah true dan sebaliknya.\n",
    "\n",
    "# Program untuk menentukan status kesehatan berdasarkan BMI (Body Mass Index)\n",
    "weight = float(input(\"Masukkan berat badan mu (dalam kilogram): \"))\n",
    "height = float(input(\"Masukkan tinggi badan mu (dalam meter): \"))\n",
    "\n",
    "bmi = weight / (height ** 2)\n",
    "\n",
    "if bmi < 18.5:\n",
    "    print(\"berat badan mu kurang ideal nih, ayo coba lebih banyak konsumsi makanan sehat dan olahraga yang teratur. semangatt!!\")\n",
    "elif bmi < 25:\n",
    "    print(\"yeayy berat badan mu sudah ideal, pertahankan pola makan dan olahraga yaa!!.\")\n",
    "elif bmi < 30:\n",
    "    print(\"kamu kelebihan berat badan, aku sarankan rutin berolahraga dan memperbaiki pola makan yaa, semangatt!!.\")\n",
    "else:\n",
    "    print(\"kamu mengalami obesitas, ayo segera konsultasikan dengan dokter untuk mengatur pola makan dan olahraga yang tepat.\")\n"
   ]
  },
  {
   "cell_type": "code",
   "execution_count": null,
   "id": "7fc8c3b1",
   "metadata": {},
   "outputs": [],
   "source": []
  },
  {
   "cell_type": "code",
   "execution_count": null,
   "id": "8114fdc7",
   "metadata": {},
   "outputs": [],
   "source": []
  },
  {
   "cell_type": "code",
   "execution_count": null,
   "id": "5ef8d81a",
   "metadata": {},
   "outputs": [],
   "source": []
  }
 ],
 "metadata": {
  "kernelspec": {
   "display_name": "Python 3",
   "language": "python",
   "name": "python3"
  },
  "language_info": {
   "codemirror_mode": {
    "name": "ipython",
    "version": 3
   },
   "file_extension": ".py",
   "mimetype": "text/x-python",
   "name": "python",
   "nbconvert_exporter": "python",
   "pygments_lexer": "ipython3",
   "version": "3.10.10"
  },
  "vscode": {
   "interpreter": {
    "hash": "63963b3f4c440940f0b94a3100916033a226cb4f45979123153792d60aa56d6a"
   }
  }
 },
 "nbformat": 4,
 "nbformat_minor": 5
}
