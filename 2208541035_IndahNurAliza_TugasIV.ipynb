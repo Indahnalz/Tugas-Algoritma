{
  "nbformat": 4,
  "nbformat_minor": 0,
  "metadata": {
    "colab": {
      "provenance": [],
      "authorship_tag": "ABX9TyOa3d2pmn6KBk3fcVWoB9nQ",
      "include_colab_link": true
    },
    "kernelspec": {
      "name": "python3",
      "display_name": "Python 3"
    },
    "language_info": {
      "name": "python"
    }
  },
  "cells": [
    {
      "cell_type": "markdown",
      "metadata": {
        "id": "view-in-github",
        "colab_type": "text"
      },
      "source": [
        "<a href=\"https://colab.research.google.com/github/Indahnalz/Tugas-Algoritma/blob/main/2208541035_IndahNurAliza_TugasIV.ipynb\" target=\"_parent\"><img src=\"https://colab.research.google.com/assets/colab-badge.svg\" alt=\"Open In Colab\"/></a>"
      ]
    },
    {
      "cell_type": "markdown",
      "source": [
        "# 5. 11 While Loop"
      ],
      "metadata": {
        "id": "7zYyNyxFdRjf"
      }
    },
    {
      "cell_type": "markdown",
      "source": [
        "## Pendahuluan\n",
        "while loop adalah struktur pengulangan yang akan selalu dieksekusi selama nilainya *True* dan akan berhenti saat nilai kondisinya * false*"
      ],
      "metadata": {
        "id": "6lzoeAChdfp8"
      }
    },
    {
      "cell_type": "code",
      "execution_count": null,
      "metadata": {
        "id": "M1zattkDdQcJ"
      },
      "outputs": [],
      "source": [
        "a = 0\n",
        "#menginisialiasikan variable 'a' dengan nilai awal 0\n",
        "while a < 8:\n",
        "  #ini adalah perintah while loop yang akan di jalankan selama 'a' kurang dari 8\n",
        "  print(\"angka\" + str(a) + \"masih dibawah 8\")\n",
        "  # \"print\" akan mencetak pesan output yang berisi nilai variabel 'a' dalam bentuk string diikuti dengan pesan \"masih dibawah 8\"\n",
        "  a += 1\n",
        "  # ini akan menambah variabel a dengan 1 pada loop hingga 'a' akan bertambah sampai kurang dari 8\n",
        "\n",
        "#perintah ini akan berhenti apabila nilai 'a' sudah mencapai/melebihi 8 karena program akan menganggap 'a' memiliki nilai false"
      ]
    },
    {
      "cell_type": "code",
      "source": [
        "#contoh lain\n",
        "\n",
        "a = 0\n",
        "while a < 13:\n",
        "  print(a * '*')\n",
        "  a += 1\n",
        "\n",
        "  #sebenarnya code ini sama seperti code diatas, dimulai dengan penginisialisasian variabel, penggunaan while loop dan mencetak output menggunakan print.\n",
        "  # yang membedakannya adalah pada garis ketiga print diperintahkan untuk mencetak a dengan penginisialan lain seperti pada contoh yang menggunakan '*' untuk menginisialisasikan variabel a yang kurang dari 13"
      ],
      "metadata": {
        "colab": {
          "base_uri": "https://localhost:8080/"
        },
        "id": "LYppz19djvzj",
        "outputId": "6786647d-94ad-4a8a-f4e4-c18e2689b8ab"
      },
      "execution_count": 5,
      "outputs": [
        {
          "output_type": "stream",
          "name": "stdout",
          "text": [
            "\n",
            "*\n",
            "**\n",
            "***\n",
            "****\n",
            "*****\n",
            "******\n",
            "*******\n",
            "********\n",
            "*********\n",
            "**********\n",
            "***********\n",
            "************\n"
          ]
        }
      ]
    },
    {
      "cell_type": "markdown",
      "source": [
        "# 5.12 List di Python"
      ],
      "metadata": {
        "id": "yw44NXyjlkaB"
      }
    },
    {
      "cell_type": "markdown",
      "source": [
        "## Pendahuluan\n",
        "\n",
        "List dapat digunakan saat kita akan mempresentasikan objek dalam Python yang berupa *string* ataupun angka\n",
        "\n",
        "List dapat diubah/dipanggil urutannya "
      ],
      "metadata": {
        "id": "zbcj4yARlwBy"
      }
    },
    {
      "cell_type": "code",
      "source": [
        "\n",
        "card = ['spade', 'heart', 'diamond', 'club']\n",
        "\n",
        "#buat sebuah list yang terdiri dari empat/lebih elemen, disini saya membuat list card yang berisi 'spade', 'heart', 'diamond', dan 'club'. \n",
        "#List tersebut disimpan ke dalam variabel card.\n",
        "print(card)\n",
        "#print akan mencetak isi variabel ke output"
      ],
      "metadata": {
        "colab": {
          "base_uri": "https://localhost:8080/"
        },
        "id": "DxfnLK0OlyuI",
        "outputId": "40cf4aad-c95c-46ec-d180-46822b0e3f79"
      },
      "execution_count": 7,
      "outputs": [
        {
          "output_type": "stream",
          "name": "stdout",
          "text": [
            "['spade', 'heart', 'diamond', 'club']\n"
          ]
        }
      ]
    },
    {
      "cell_type": "code",
      "source": [
        "print(card[0])\n",
        "# card[0] mengambil elemen pada indeks ke-0 (elemen pertama) dari list card. Karena elemen pada indeks ke-0 adalah string 'spade', maka baris kode ini akan mencetak string 'spade' ke layar, begitupun seterusnya"
      ],
      "metadata": {
        "colab": {
          "base_uri": "https://localhost:8080/"
        },
        "id": "CZm4NoYhn_b2",
        "outputId": "a64312f9-d5fb-4f24-b983-d1a4819b9732"
      },
      "execution_count": 8,
      "outputs": [
        {
          "output_type": "stream",
          "name": "stdout",
          "text": [
            "spade\n"
          ]
        }
      ]
    },
    {
      "cell_type": "code",
      "source": [
        "print(card[-2])\n",
        "#ini mencetak elemen kedua dari belakang dari list card ke layar.\n",
        "#card[-2] mengambil elemen pada indeks ke-2 dari belakang dari list card. Karena indeks dimulai dari 0 dan card[-1] mengambil elemen terakhir dari list, maka card[-2] akan mengambil elemen kedua dari belakang dari list, yaitu string 'diamond'."
      ],
      "metadata": {
        "colab": {
          "base_uri": "https://localhost:8080/"
        },
        "id": "dhvbxNgrqBZ9",
        "outputId": "b0e2cd2b-0f9c-463e-aaa9-3521e8fe8d1f"
      },
      "execution_count": 12,
      "outputs": [
        {
          "output_type": "stream",
          "name": "stdout",
          "text": [
            "diamond\n"
          ]
        }
      ]
    },
    {
      "cell_type": "code",
      "source": [
        "card[3] = 'joker'\n",
        "#perintah ini mengubah list yang ada di dalam variabel card yang sebelumnya adalah 'club' menjadi 'joker'\n",
        "print(card)\n",
        "#lalu print akan menampilkan output setelah list diatas diganti"
      ],
      "metadata": {
        "colab": {
          "base_uri": "https://localhost:8080/"
        },
        "id": "KFfwTli3qBvD",
        "outputId": "7c763319-19e1-4cfa-f1c8-047aeea49e4b"
      },
      "execution_count": 9,
      "outputs": [
        {
          "output_type": "stream",
          "name": "stdout",
          "text": [
            "['spade', 'heart', 'diamond', 'joker']\n"
          ]
        }
      ]
    },
    {
      "cell_type": "code",
      "source": [
        "print(card[1:3])\n",
        "# ini mencetak bagian dari list card yang terdiri dari elemen pada indeks ke-1 dan ke-2.\n",
        "\n",
        "#card[1:3] mengambil slice dari list card mulai dari indeks ke-1 (elemen kedua) hingga indeks ke-3 (elemen ketiga), tetapi tidak termasuk elemen pada indeks ke-3 itu sendiri. Dalam hal ini, slice yang diambil adalah ['heart', 'diamond']."
      ],
      "metadata": {
        "colab": {
          "base_uri": "https://localhost:8080/"
        },
        "id": "FxilgauVqB_z",
        "outputId": "023e4102-1fec-4dac-bab4-3ba77211dd49"
      },
      "execution_count": 11,
      "outputs": [
        {
          "output_type": "stream",
          "name": "stdout",
          "text": [
            "['heart', 'diamond']\n"
          ]
        }
      ]
    },
    {
      "cell_type": "code",
      "source": [
        "#perintah ini tidak merubah list \n",
        "print(card)"
      ],
      "metadata": {
        "colab": {
          "base_uri": "https://localhost:8080/"
        },
        "id": "f0id-k4sqCPy",
        "outputId": "2e4b3683-6beb-40c2-9507-38e3e9c1ea1d"
      },
      "execution_count": 13,
      "outputs": [
        {
          "output_type": "stream",
          "name": "stdout",
          "text": [
            "['spade', 'heart', 'diamond', 'joker']\n"
          ]
        }
      ]
    },
    {
      "cell_type": "markdown",
      "source": [
        "# 5.13 Metoda List\n"
      ],
      "metadata": {
        "id": "TFAqRNzouKch"
      }
    },
    {
      "cell_type": "markdown",
      "source": [
        "## Pendahuluan \n",
        " list merupakan objek, maka keberadaannya dapat dimanipulasi dengan menambahkan atau menghilangkan isinya"
      ],
      "metadata": {
        "id": "H5dwH6OcBqma"
      }
    },
    {
      "cell_type": "code",
      "source": [
        "season = ['spring', 'summer', 'fall', 'winter' ]\n",
        "#baris ini terdiri dari 4 elemen string yaitu 'spring', 'summer', 'fall', dan 'winter' yang menjadi satu variabel yaitu 'season'.\n",
        "season.append('monsoon')\n",
        "# lalu disini kita menggunakan salah satu metoa list yaitu 'append' untuk menambahkan elemen baru yaitu 'monsoon'.\n",
        "print(season)\n",
        "# lalu print akan mencetak output dari variable 'season' yang telah diperbaharui dengan tambahan elemen baru "
      ],
      "metadata": {
        "colab": {
          "base_uri": "https://localhost:8080/"
        },
        "id": "KMRA9AB3tugr",
        "outputId": "e0a33540-9777-4e38-f77c-db05d323f555"
      },
      "execution_count": 1,
      "outputs": [
        {
          "output_type": "stream",
          "name": "stdout",
          "text": [
            "['spring', 'summer', 'fall', 'winter', 'monsoon']\n"
          ]
        }
      ]
    },
    {
      "cell_type": "code",
      "source": [
        "season.insert(0, 'drought')\n",
        "#metode insert() dipanggil pada objek season untuk menyisipkan elemen string baru yaitu 'drought' pada indeks ke-0 (posisi pertama) di dalam list.\n",
        "print(season)\n",
        "# print() dipanggil untuk mencetak isi dari list season yang telah diperbarui dengan penambahan elemen baru. "
      ],
      "metadata": {
        "colab": {
          "base_uri": "https://localhost:8080/"
        },
        "id": "W83SgQeTINdf",
        "outputId": "eaab9ecf-cf98-4b06-b92f-cf4beebf7daf"
      },
      "execution_count": 2,
      "outputs": [
        {
          "output_type": "stream",
          "name": "stdout",
          "text": [
            "['drought', 'spring', 'summer', 'fall', 'winter', 'monsoon']\n"
          ]
        }
      ]
    },
    {
      "cell_type": "code",
      "source": [
        "season.remove('drought')\n",
        "#metode remove() dipanggil pada objek season untuk menghapus elemen string 'drought' dari dalam list. Karena elemen ini berada pada indeks ke-0 (posisi pertama), maka setelah dihapus, elemen-elemen di dalam list akan mundur ke posisi yang lebih rendah untuk mengisi posisi yang kosong.\n",
        "print(season)\n",
        "#print() dipanggil untuk mencetak isi dari list season yang telah diperbarui dengan penghapusan elemen 'drought'."
      ],
      "metadata": {
        "colab": {
          "base_uri": "https://localhost:8080/"
        },
        "id": "gXPh0oZrIKMs",
        "outputId": "dc8431b3-4f1d-4010-9f26-b07f1e26932f"
      },
      "execution_count": 3,
      "outputs": [
        {
          "output_type": "stream",
          "name": "stdout",
          "text": [
            "['spring', 'summer', 'fall', 'winter', 'monsoon']\n"
          ]
        }
      ]
    },
    {
      "cell_type": "markdown",
      "source": [
        "# 5.14 For Loop"
      ],
      "metadata": {
        "id": "s7bVzBreNNtA"
      }
    },
    {
      "cell_type": "markdown",
      "source": [
        "## Pendahuluan\n",
        "For loop pada Python adalah jenis loop yang digunakan untuk mengulangi suatu blok kode dengan jumlah pengulangan yang telah ditentukan sebelumnya. For loop digunakan untuk mengulangi suatu pernyataan atau blok kode untuk setiap elemen dalam urutan tertentu seperti list, tuple, atau string."
      ],
      "metadata": {
        "id": "EfvL5qONRiHO"
      }
    },
    {
      "cell_type": "code",
      "source": [
        "music = ['rnb', 'jazz', 'pop', 'country' ]\n",
        "# baris ini merupakan list yang berisi 4 elemen string yaitu, 'rnb', 'jazz', 'pop', 'country'.\n",
        "for genre in music:\n",
        "  #Memulai pengulangan menggunakan for loop. Pada pengulangan, variabel genre akan mereferensikan elemen saat ini di dalam list music.\n",
        "  print(genre)\n",
        "  #Mencetak isi dari variabel genre yang mereferensikan elemen saat ini di dalam list music. Dalam hal ini, setiap elemen di dalam list music akan dicetak secara berurutan dalam satu baris terpisah."
      ],
      "metadata": {
        "colab": {
          "base_uri": "https://localhost:8080/"
        },
        "id": "uBwoIJy7NG3G",
        "outputId": "1f7214b0-f329-4c1d-9672-2dad99b588a9"
      },
      "execution_count": 6,
      "outputs": [
        {
          "output_type": "stream",
          "name": "stdout",
          "text": [
            "rnb\n",
            "jazz\n",
            "pop\n",
            "country\n"
          ]
        }
      ]
    },
    {
      "cell_type": "code",
      "source": [
        "i = 0\n",
        "#inisialisasi variabel i dengan nilai 0.\n",
        "while i < len(music):\n",
        "  # pernyataan while mengevaluasi kondisi i < len(music) yang artinya selama variabel i masih lebih kecil dari panjang objek music, maka blok kode dalam loop akan terus dijalankan.\n",
        "  print(music[i])\n",
        "  #mencetak elemen ke-i dalam objek music.\n",
        "  i += 1\n",
        "  # menambahkan nilai variabel i sebesar 1 setiap kali loop dijalankan untuk mengakses elemen berikutnya."
      ],
      "metadata": {
        "colab": {
          "base_uri": "https://localhost:8080/"
        },
        "id": "URjXSFQfIKtk",
        "outputId": "6f8143fe-44ae-4cf7-f7c4-3cfab6e0fd01"
      },
      "execution_count": 7,
      "outputs": [
        {
          "output_type": "stream",
          "name": "stdout",
          "text": [
            "rnb\n",
            "jazz\n",
            "pop\n",
            "country\n"
          ]
        }
      ]
    },
    {
      "cell_type": "markdown",
      "source": [
        "# 5.15 Fungsi Range"
      ],
      "metadata": {
        "id": "cXfTer2niic2"
      }
    },
    {
      "cell_type": "markdown",
      "source": [
        "## Pendahuluan \n",
        "\n",
        "fungsi range berguna untuk membangkitkan bilangan berurutan atau berpola yang kita inginkan. penulisannya di kombinasikan dengan for loop"
      ],
      "metadata": {
        "id": "a50UV-iYioxu"
      }
    },
    {
      "cell_type": "code",
      "source": [
        "angka = range(13)\n",
        "#membuat objek range dengan nilai awal 0 dan nilai akhir 13-1 (yaitu 12), sehingga objek range ini akan berisi angka dari 0 sampai dengan 12.\n",
        "print(angka)\n",
        "#mencetak objek angka, yang berisi range nilai dari 0 sampai 12."
      ],
      "metadata": {
        "colab": {
          "base_uri": "https://localhost:8080/"
        },
        "id": "HgtF_WDaIK-a",
        "outputId": "8005e547-3901-4d33-bbd2-79a6dafc2bee"
      },
      "execution_count": 8,
      "outputs": [
        {
          "output_type": "stream",
          "name": "stdout",
          "text": [
            "range(0, 13)\n"
          ]
        }
      ]
    },
    {
      "cell_type": "code",
      "source": [
        "for isi in angka:\n",
        "  #melakukan pengulangan pada setiap elemen di dalam objek angka, kemudian setiap elemen tersebut dicetak. isi adalah variabel yang digunakan untuk menyimpan nilai dari setiap elemen di dalam objek angka.\n",
        "  print(isi)\n",
        "  #mencetak nilai isi yang merupakan elemen di dalam objek angka."
      ],
      "metadata": {
        "colab": {
          "base_uri": "https://localhost:8080/"
        },
        "id": "poI8nXmVILQ0",
        "outputId": "3a522cdb-8123-4f02-f796-c744c7f6a94b"
      },
      "execution_count": 9,
      "outputs": [
        {
          "output_type": "stream",
          "name": "stdout",
          "text": [
            "0\n",
            "1\n",
            "2\n",
            "3\n",
            "4\n",
            "5\n",
            "6\n",
            "7\n",
            "8\n",
            "9\n",
            "10\n",
            "11\n",
            "12\n"
          ]
        }
      ]
    },
    {
      "cell_type": "code",
      "source": [
        "for isi in range(2,9):\n",
        "  #melakukan pengulangan pada setiap nilai di dalam objek range yang dimulai dari nilai 2 hingga nilai 8. isi adalah variabel yang digunakan untuk menyimpan nilai dari setiap elemen di dalam objek range tersebut.\n",
        "  print(isi)\n",
        "  #mencetak nilai isi yang merupakan nilai dalam objek range."
      ],
      "metadata": {
        "colab": {
          "base_uri": "https://localhost:8080/"
        },
        "id": "yzmSFANGILgJ",
        "outputId": "e5c8a289-b04c-4f40-9fb9-3f8d7bc2e4d9"
      },
      "execution_count": 11,
      "outputs": [
        {
          "output_type": "stream",
          "name": "stdout",
          "text": [
            "2\n",
            "3\n",
            "4\n",
            "5\n",
            "6\n",
            "7\n",
            "8\n"
          ]
        }
      ]
    },
    {
      "cell_type": "code",
      "source": [
        "for isi in range(0,12,2):\n",
        "  #melakukan pengulangan pada setiap nilai di dalam objek range yang dimulai dari nilai 0 hingga nilai 11 dengan jarak antar nilai sebesar 2. isi adalah variabel yang digunakan untuk menyimpan nilai dari setiap elemen di dalam objek range tersebut.\n",
        "  print(isi)\n",
        "  #mencetak nilai isi yang merupakan nilai dalam objek range."
      ],
      "metadata": {
        "colab": {
          "base_uri": "https://localhost:8080/"
        },
        "id": "MQHQLW5IILur",
        "outputId": "1987b2ba-b420-4ceb-fe2b-e6d3b260a970"
      },
      "execution_count": 12,
      "outputs": [
        {
          "output_type": "stream",
          "name": "stdout",
          "text": [
            "0\n",
            "2\n",
            "4\n",
            "6\n",
            "8\n",
            "10\n"
          ]
        }
      ]
    },
    {
      "cell_type": "code",
      "source": [],
      "metadata": {
        "id": "LUiyD8jZlB8W"
      },
      "execution_count": null,
      "outputs": []
    }
  ]
}